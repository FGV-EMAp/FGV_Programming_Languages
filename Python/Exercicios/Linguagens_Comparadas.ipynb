{
 "cells": [
  {
   "cell_type": "markdown",
   "metadata": {},
   "source": [
    "### Exercícios comparativos de linguagens:"
   ]
  },
  {
   "cell_type": "markdown",
   "metadata": {},
   "source": [
    "1) Dado os seguintes algoritmos em linguagens específicas, crie um algoritmo equivalente em linguagem Python\n",
    "\n",
    "https://rosettacode.org/wiki/Sorting_algorithms/Quicksort  "
   ]
  },
  {
   "cell_type": "raw",
   "metadata": {},
   "source": [
    "# R\n",
    "\n",
    "qsort <- function(v) {\n",
    "  if (length(v) > 1) \n",
    "  {\n",
    "    pivot <- (min(v) + max(v))/2.0  # Could also use pivot <- median(v)\n",
    "    c(qsort(v[v < pivot]), v[v == pivot], qsort(v[v > pivot])) \n",
    "  } else v\n",
    "}\n",
    " \n",
    "N <- 100\n",
    "vs <- runif(N)\n",
    "system.time(u <- qsort(vs))\n",
    "print(u)"
   ]
  },
  {
   "cell_type": "raw",
   "metadata": {},
   "source": [
    "# Common Lisp\n",
    "\n",
    "(defun quicksort (list &aux (pivot (car list)) )\n",
    "  (if (cdr list)\n",
    "      (nconc (quicksort (remove-if-not #'(lambda (x) (< x pivot)) list))\n",
    "             (remove-if-not #'(lambda (x) (= x pivot)) list)\n",
    "             (quicksort (remove-if-not #'(lambda (x) (> x pivot)) list)))\n",
    "      list))"
   ]
  },
  {
   "cell_type": "code",
   "execution_count": null,
   "metadata": {
    "collapsed": true
   },
   "outputs": [],
   "source": [
    "#C\n",
    "\n",
    "#include <stdio.h>\n",
    "void quicksort(int *A, int len);\n",
    " \n",
    "int main (void) {\n",
    "  int a[] = {4, 65, 2, -31, 0, 99, 2, 83, 782, 1};\n",
    "  int n = sizeof a / sizeof a[0];\n",
    "  int i;\n",
    "  for (i = 0; i < n; i++) {\n",
    "    printf(\"%d \", a[i]);\n",
    "  }\n",
    "  printf(\"\\n\");\n",
    "  quicksort(a, n);\n",
    "  for (i = 0; i < n; i++) {\n",
    "    printf(\"%d \", a[i]);\n",
    "  }\n",
    "  printf(\"\\n\");\n",
    "  return 0;\n",
    "}"
   ]
  },
  {
   "cell_type": "code",
   "execution_count": null,
   "metadata": {
    "collapsed": true
   },
   "outputs": [],
   "source": [
    "# Python\n",
    "\n",
    "def quickSort(arr):\n",
    "    less = []\n",
    "    pivotList = []\n",
    "    more = []\n",
    "    if len(arr) <= 1:\n",
    "        return arr\n",
    "    else:\n",
    "        pivot = arr[0]\n",
    "        for i in arr:\n",
    "            if i < pivot:\n",
    "                less.append(i)\n",
    "            elif i > pivot:\n",
    "                more.append(i)\n",
    "            else:\n",
    "                pivotList.append(i)\n",
    "        less = quickSort(less)\n",
    "        more = quickSort(more)\n",
    "        return less + pivotList + more\n",
    " \n",
    "a = [4, 65, 2, -31, 0, 99, 83, 782, 1]\n",
    "a = quickSort(a)"
   ]
  },
  {
   "cell_type": "markdown",
   "metadata": {},
   "source": [
    "2) Escreva um código em R para receber um vetor de inteiros e retornar um vetor com os inteiros pares dentre os inteiros da primeira lista"
   ]
  },
  {
   "cell_type": "code",
   "execution_count": null,
   "metadata": {
    "collapsed": true
   },
   "outputs": [],
   "source": [
    "v <- 1:20\n",
    "    \n",
    "filtra.pares <- function(v) {\n",
    "  v <- v[v%%2 == 0]\n",
    "  print(v)\n",
    "  }\n",
    "\n",
    "filtra.pares(v)"
   ]
  },
  {
   "cell_type": "markdown",
   "metadata": {},
   "source": [
    "3) Escreva um código em Common Lisp para receber um vetor de inteiros e retornar um vetor com os inteiros pares dentre os inteiros da primeira lista"
   ]
  },
  {
   "cell_type": "code",
   "execution_count": null,
   "metadata": {
    "collapsed": true
   },
   "outputs": [],
   "source": [
    "(setq v2 #(1 2 3 4 5 6 7 8 9 10))\n",
    "(remove-if-not 'evenp v2)"
   ]
  },
  {
   "cell_type": "markdown",
   "metadata": {},
   "source": [
    "4) Faça um programa em Python equivalente ao seguinte programa em R:"
   ]
  },
  {
   "cell_type": "code",
   "execution_count": null,
   "metadata": {},
   "outputs": [],
   "source": [
    "converte <- function (x) \n",
    "{\n",
    "  romans <- c(\"M\", \"CM\", \"D\", \"CD\", \"C\", \"XC\", \"L\", \"XL\", \"X\", \n",
    "              \"IX\", \"V\", \"IV\", \"I\")\n",
    "  numbers <- c(1000L, 900L, 500L, 400L, 100L, 90L, 50L, 40L, \n",
    "               10L, 9L, 5L, 4L, 1L)\n",
    "  out <- integer(length(x))\n",
    "  ind <- is.na(x)\n",
    "  out[ind] <- NA\n",
    "  if (any(!ind)) {\n",
    "    y <- toupper(x[!ind])\n",
    "    y <- gsub(\"CM\", \"DCCCC\", y)\n",
    "    y <- gsub(\"CD\", \"CCCC\", y)\n",
    "    y <- gsub(\"XC\", \"LXXXX\", y)\n",
    "    y <- gsub(\"XL\", \"XXXX\", y)\n",
    "    y <- gsub(\"IX\", \"VIIII\", y)\n",
    "    y <- gsub(\"IV\", \"IIII\", y)\n",
    "    ok <- grepl(\"^M{,3}D?C{,4}L?X{,4}V?I{,4}$\", y)\n",
    "    if (any(!ok)) {\n",
    "      warning(sprintf(ngettext(sum(!ok), \"invalid roman numeral: %s\", \n",
    "                               \"invalid roman numerals: %s\"), paste(x[!ind][!ok], \n",
    "                                                                    collapse = \" \")), domain = NA)\n",
    "      out[!ind][!ok] <- NA\n",
    "    }\n",
    "    if (any(ok)) \n",
    "      out[!ind][ok] <- sapply(strsplit(y[ok], \"\"), function(z) as.integer(sum(numbers[match(z, \n",
    "                                                                                            romans)])))\n",
    "  }\n",
    "  out\n",
    "}"
   ]
  },
  {
   "cell_type": "code",
   "execution_count": null,
   "metadata": {},
   "outputs": [],
   "source": [
    "def converte(n):\n",
    "    romanos = ['M','D','C','L','X','V','I']\n",
    "    arabicos = [1000,500,100,50,10,5,1]\n",
    "    \n",
    "    n = n.replace(\"CM\", \"DCCCC\")\n",
    "    n = n.replace(\"CD\", \"CCCC\")\n",
    "    n = n.replace(\"XC\", \"LXXXX\")\n",
    "    n = n.replace(\"XL\", \"XXXX\")\n",
    "    n = n.replace(\"IX\", \"VIIII\")\n",
    "    n = n.replace(\"IV\", \"IIII\")\n",
    "    print(n)\n",
    "    \n",
    "    soma = 0\n",
    "    for i in n:\n",
    "        for j in range(len(romanos)):\n",
    "            if i==romanos[j]:\n",
    "                soma += arabicos[j]\n",
    "    return soma"
   ]
  },
  {
   "cell_type": "markdown",
   "metadata": {},
   "source": [
    "5) Faça um programa em Python equivalente ao seguinte programa em C:"
   ]
  },
  {
   "cell_type": "code",
   "execution_count": null,
   "metadata": {},
   "outputs": [],
   "source": [
    "/* A function that prints given number in words */\n",
    "void convert_to_words(char *num)\n",
    "{\n",
    "    int len = strlen(num);  // Get number of digits in given number\n",
    " \n",
    "    /* Base cases */\n",
    "    if (len == 0) {\n",
    "        fprintf(stderr, \"empty string\\n\");\n",
    "        return;\n",
    "    }\n",
    "    if (len > 4) {\n",
    "        fprintf(stderr, \"Length more than 4 is not supported\\n\");\n",
    "        return;\n",
    "    }\n",
    " \n",
    "    /* The first string is not used, it is to make array indexing simple */\n",
    "    char *single_digits[] = { \"zero\", \"one\", \"two\", \"three\", \"four\",\n",
    "                              \"five\", \"six\", \"seven\", \"eight\", \"nine\"};\n",
    " \n",
    "    /* The first string is not used, it is to make array indexing simple */\n",
    "    char *two_digits[] = {\"\", \"ten\", \"eleven\", \"twelve\", \"thirteen\", \"fourteen\",\n",
    "                     \"fifteen\", \"sixteen\", \"seventeen\", \"eighteen\", \"nineteen\"};\n",
    " \n",
    "    /* The first two string are not used, they are to make array indexing simple*/\n",
    "    char *tens_multiple[] = {\"\", \"\", \"twenty\", \"thirty\", \"forty\", \"fifty\",\n",
    "                             \"sixty\", \"seventy\", \"eighty\", \"ninety\"};\n",
    " \n",
    "    char *tens_power[] = {\"hundred\", \"thousand\"};\n",
    " \n",
    "    /* Used for debugging purpose only */\n",
    "    printf(\"\\n%s: \", num);\n",
    " \n",
    "    /* For single digit number */\n",
    "    if (len == 1) {\n",
    "        printf(\"%s\\n\", single_digits[*num - '0']);\n",
    "        return;\n",
    "    }\n",
    " \n",
    "     /* Iterate while num is not '\\0' */\n",
    "     while (*num != '\\0') {\n",
    " \n",
    "        /* Code path for first 2 digits */\n",
    "        if (len >= 3) {\n",
    "            if (*num -'0' != 0) {\n",
    "                printf(\"%s \", single_digits[*num - '0']);\n",
    "                printf(\"%s \", tens_power[len-3]); // here len can be 3 or 4\n",
    "            }\n",
    "            --len;\n",
    "        }\n",
    " \n",
    "        /* Code path for last 2 digits */\n",
    "        else {\n",
    "            /* Need to explicitly handle 10-19. Sum of the two digits is\n",
    "               used as index of \"two_digits\" array of strings */\n",
    "            if (*num == '1') {\n",
    "                int sum = *num - '0' + *(num + 1)- '0';\n",
    "                printf(\"%s\\n\", two_digits[sum]);\n",
    "                return;\n",
    "            }\n",
    " \n",
    "            /* Need to explicitely handle 20 */\n",
    "            else if (*num == '2' && *(num + 1) == '0') {\n",
    "                printf(\"twenty\\n\");\n",
    "                return;\n",
    "            }\n",
    " \n",
    "            /* Rest of the two digit numbers i.e., 21 to 99 */\n",
    "            else {\n",
    "                int i = *num - '0';\n",
    "                printf(\"%s \", i? tens_multiple[i]: \"\");\n",
    "                ++num;\n",
    "                if (*num != '0')\n",
    "                    printf(\"%s \", single_digits[*num - '0']);\n",
    "            }\n",
    "        }\n",
    "        ++num;\n",
    "    }\n",
    "}\n",
    "\n",
    "/* Driver program to test above function */\n",
    "int main(void)\n",
    "{\n",
    "    convert_to_words(\"9923\");\n",
    "    convert_to_words(\"523\");\n",
    "    convert_to_words(\"89\");\n",
    "    convert_to_words(\"8989\");\n",
    " \n",
    "    return 0;\n",
    "}"
   ]
  },
  {
   "cell_type": "code",
   "execution_count": null,
   "metadata": {},
   "outputs": [],
   "source": []
  },
  {
   "cell_type": "markdown",
   "metadata": {},
   "source": [
    "### Exercícios com bancos de dados"
   ]
  },
  {
   "cell_type": "markdown",
   "metadata": {},
   "source": [
    "1) Dada a tabela \"pacientes\", no banco de dados \"Medicina\", ilustrada abaixo:  \n",
    "\n",
    "\n",
    "| idade | altura | peso | pressao_d | pressao_s |nome  |\n",
    "|-------|--------|------|-----------|-----------|------|\n",
    "| 23    | 183    | 73   | 8         | 12        |Rubens|\n",
    "| 42    | 167    | 60   | 7         | 11        |Maria |\n",
    "| 34    | 177    | 77   | 9         | 13        |Carlos|\n",
    "\n",
    "\n",
    "\n",
    "Escreva um script em Python + SQL para construir um dicionário tendo os nomes como chave e as idades como valores. "
   ]
  },
  {
   "cell_type": "code",
   "execution_count": 1,
   "metadata": {},
   "outputs": [],
   "source": [
    "import sqlite3\n",
    "\n",
    "conn = sqlite3.connect('Medicina.db')\n",
    "cur = conn.cursor()"
   ]
  },
  {
   "cell_type": "code",
   "execution_count": 2,
   "metadata": {},
   "outputs": [],
   "source": [
    "# Create table\n",
    "cur.execute('''CREATE TABLE IF NOT EXISTS pacientes\n",
    "             (idade real, altura real, peso real, pressao_d real, pressao_s real, nome text)''')\n",
    "\n",
    "# Insert a row of data\n",
    "cur.execute(\"INSERT INTO pacientes VALUES (23, 183, 73, 8, 12, 'Rubens')\")\n",
    "cur.execute(\"INSERT INTO pacientes VALUES (42, 167, 60, 7, 11, 'Maria')\")\n",
    "cur.execute(\"INSERT INTO pacientes VALUES (34, 177, 77, 9, 13, 'Carlos')\")\n",
    "\n",
    "# Save (commit) the changes\n",
    "conn.commit()\n",
    "\n",
    "# We can also close the connection if we are done with it.\n",
    "# Just be sure any changes have been committed or they will be lost.\n",
    "conn.close()"
   ]
  },
  {
   "cell_type": "code",
   "execution_count": 5,
   "metadata": {},
   "outputs": [],
   "source": [
    "conn = sqlite3.connect('Medicina.db')\n",
    "cur = conn.cursor()"
   ]
  },
  {
   "cell_type": "code",
   "execution_count": 6,
   "metadata": {},
   "outputs": [
    {
     "name": "stdout",
     "output_type": "stream",
     "text": [
      "(34.0, 177.0, 77.0, 9.0, 13.0, 'Carlos')\n",
      "(42.0, 167.0, 60.0, 7.0, 11.0, 'Maria')\n",
      "(23.0, 183.0, 73.0, 8.0, 12.0, 'Rubens')\n"
     ]
    }
   ],
   "source": [
    "for row in cur.execute('SELECT * FROM pacientes ORDER BY nome'):\n",
    "        print(row)"
   ]
  },
  {
   "cell_type": "code",
   "execution_count": 8,
   "metadata": {},
   "outputs": [
    {
     "name": "stdout",
     "output_type": "stream",
     "text": [
      "('Carlos', 34.0)\n",
      "('Maria', 42.0)\n",
      "('Rubens', 23.0)\n"
     ]
    },
    {
     "data": {
      "text/plain": [
       "{'Carlos': 34.0, 'Maria': 42.0, 'Rubens': 23.0}"
      ]
     },
     "execution_count": 8,
     "metadata": {},
     "output_type": "execute_result"
    }
   ],
   "source": [
    "dic = {}\n",
    "for row in cur.execute('SELECT nome, idade FROM pacientes ORDER BY nome'):\n",
    "        print(row)\n",
    "        dic[row[0]] = row[1]\n",
    "dic"
   ]
  },
  {
   "cell_type": "markdown",
   "metadata": {},
   "source": [
    "2) Conecte ao banco Python/Dados/chinook.sqlite e inspecione a lista de tabelas"
   ]
  },
  {
   "cell_type": "code",
   "execution_count": 23,
   "metadata": {},
   "outputs": [],
   "source": [
    "conn = sqlite3.connect('../Dados/chinook.sqlite')\n",
    "cur = conn.cursor()"
   ]
  },
  {
   "cell_type": "code",
   "execution_count": 24,
   "metadata": {},
   "outputs": [
    {
     "name": "stdout",
     "output_type": "stream",
     "text": [
      "('albums',)\n",
      "('sqlite_sequence',)\n",
      "('artists',)\n",
      "('customers',)\n",
      "('employees',)\n",
      "('genres',)\n",
      "('invoices',)\n",
      "('invoice_items',)\n",
      "('media_types',)\n",
      "('playlists',)\n",
      "('playlist_track',)\n",
      "('tracks',)\n",
      "('sqlite_stat1',)\n"
     ]
    }
   ],
   "source": [
    "for row in cur.execute(\"SELECT name FROM sqlite_master WHERE type='table';\"):\n",
    "    print(row)"
   ]
  },
  {
   "cell_type": "markdown",
   "metadata": {},
   "source": [
    "3) Quais artistas lançaram mais albuns?"
   ]
  },
  {
   "cell_type": "code",
   "execution_count": 27,
   "metadata": {},
   "outputs": [
    {
     "name": "stdout",
     "output_type": "stream",
     "text": [
      "(0, 'AlbumId', 'INTEGER', 1, None, 1)\n",
      "(1, 'Title', 'NVARCHAR(160)', 1, None, 0)\n",
      "(2, 'ArtistId', 'INTEGER', 1, None, 0)\n"
     ]
    }
   ],
   "source": [
    "for row in cur.execute(\"PRAGMA table_info([albums]);\"):\n",
    "    print(row)"
   ]
  },
  {
   "cell_type": "code",
   "execution_count": 31,
   "metadata": {},
   "outputs": [
    {
     "name": "stdout",
     "output_type": "stream",
     "text": [
      "(0, 'ArtistId', 'INTEGER', 1, None, 1)\n",
      "(1, 'Name', 'NVARCHAR(120)', 0, None, 0)\n"
     ]
    }
   ],
   "source": [
    "for row in cur.execute(\"PRAGMA table_info([artists]);\"):\n",
    "    print(row)"
   ]
  },
  {
   "cell_type": "code",
   "execution_count": 37,
   "metadata": {},
   "outputs": [
    {
     "name": "stdout",
     "output_type": "stream",
     "text": [
      "('Iron Maiden', 21)\n",
      "('Led Zeppelin', 14)\n",
      "('Deep Purple', 11)\n",
      "('Metallica', 10)\n",
      "('U2', 10)\n",
      "('Ozzy Osbourne', 6)\n",
      "('Pearl Jam', 5)\n",
      "('Faith No More', 4)\n",
      "('Foo Fighters', 4)\n",
      "('Lost', 4)\n",
      "('Van Halen', 4)\n",
      "('Various Artists', 4)\n",
      "('Audioslave', 3)\n",
      "('Berliner Philharmoniker & Herbert Von Karajan', 3)\n",
      "('Eugene Ormandy', 3)\n",
      "('Gilberto Gil', 3)\n",
      "(\"Guns N' Roses\", 3)\n",
      "('Jamiroquai', 3)\n",
      "('Miles Davis', 3)\n",
      "('Os Paralamas Do Sucesso', 3)\n",
      "('Queen', 3)\n",
      "('R.E.M.', 3)\n",
      "('Red Hot Chili Peppers', 3)\n",
      "('Santana', 3)\n",
      "('The Office', 3)\n",
      "('The Rolling Stones', 3)\n",
      "('AC/DC', 2)\n",
      "('Accept', 2)\n",
      "('Amy Winehouse', 2)\n",
      "('Antônio Carlos Jobim', 2)\n",
      "('Battlestar Galactica', 2)\n",
      "('Black Label Society', 2)\n",
      "('Black Sabbath', 2)\n",
      "('Caetano Veloso', 2)\n",
      "('Chico Science & Nação Zumbi', 2)\n",
      "('Cidade Negra', 2)\n",
      "('Creedence Clearwater Revival', 2)\n",
      "('Cássia Eller', 2)\n",
      "('Djavan', 2)\n",
      "('English Concert & Trevor Pinnock', 2)\n",
      "('Eric Clapton', 2)\n",
      "('Green Day', 2)\n",
      "('Kiss', 2)\n",
      "('Legião Urbana', 2)\n",
      "('Lulu Santos', 2)\n",
      "('Michael Tilson Thomas & San Francisco Symphony', 2)\n",
      "('Milton Nascimento', 2)\n",
      "('Nirvana', 2)\n",
      "('Skank', 2)\n",
      "('Smashing Pumpkins', 2)\n",
      "('Spyro Gyra', 2)\n",
      "('The Black Crowes', 2)\n",
      "('The Cult', 2)\n",
      "('The Tea Party', 2)\n",
      "('Tim Maia', 2)\n",
      "('Titãs', 2)\n",
      "('Aaron Copland & London Symphony Orchestra', 1)\n",
      "('Aaron Goldberg', 1)\n",
      "('Academy of St. Martin in the Fields & Sir Neville Marriner', 1)\n",
      "('Academy of St. Martin in the Fields Chamber Ensemble & Sir Neville Marriner', 1)\n",
      "('Academy of St. Martin in the Fields, John Birch, Sir Neville Marriner & Sylvia McNair', 1)\n",
      "('Academy of St. Martin in the Fields, Sir Neville Marriner & Thurston Dart', 1)\n",
      "('Adrian Leaper & Doreen de Feis', 1)\n",
      "('Aerosmith', 1)\n",
      "('Aisha Duo', 1)\n",
      "('Alanis Morissette', 1)\n",
      "('Alberto Turco & Nova Schola Gregoriana', 1)\n",
      "('Alice In Chains', 1)\n",
      "('Anne-Sophie Mutter, Herbert Von Karajan & Wiener Philharmoniker', 1)\n",
      "('Antal Doráti & London Symphony Orchestra', 1)\n",
      "('Apocalyptica', 1)\n",
      "('Aquaman', 1)\n",
      "('BackBeat', 1)\n",
      "('Barry Wordsworth & BBC Concert Orchestra', 1)\n",
      "('Battlestar Galactica (Classic)', 1)\n",
      "('Berliner Philharmoniker & Hans Rosbaud', 1)\n",
      "('Berliner Philharmoniker, Claudio Abbado & Sabine Meyer', 1)\n",
      "('Billy Cobham', 1)\n",
      "('Body Count', 1)\n",
      "('Boston Symphony Orchestra & Seiji Ozawa', 1)\n",
      "('Britten Sinfonia, Ivor Bolton & Lesley Garrett', 1)\n",
      "('Bruce Dickinson', 1)\n",
      "('Buddy Guy', 1)\n",
      "('C. Monteverdi, Nigel Rogers - Chiaroscuro; London Baroque; London Cornett & Sackbu', 1)\n",
      "('Cake', 1)\n",
      "('Calexico', 1)\n",
      "(\"Charles Dutoit & L'Orchestre Symphonique de Montréal\", 1)\n",
      "('Chicago Symphony Chorus, Chicago Symphony Orchestra & Sir Georg Solti', 1)\n",
      "('Chicago Symphony Orchestra & Fritz Reiner', 1)\n",
      "('Chico Buarque', 1)\n",
      "('Choir Of Westminster Abbey & Simon Preston', 1)\n",
      "('Chor der Wiener Staatsoper, Herbert Von Karajan & Wiener Philharmoniker', 1)\n",
      "('Chris Cornell', 1)\n",
      "(\"Christopher O'Riley\", 1)\n",
      "('Cláudio Zoli', 1)\n",
      "('David Coverdale', 1)\n",
      "('Def Leppard', 1)\n",
      "('Dennis Chambers', 1)\n",
      "('Dread Zeppelin', 1)\n",
      "('Ed Motta', 1)\n",
      "('Edo de Waart & San Francisco Symphony', 1)\n",
      "('Elis Regina', 1)\n",
      "('Emanuel Ax, Eugene Ormandy & Philadelphia Orchestra', 1)\n",
      "('Emerson String Quartet', 1)\n",
      "('Equale Brass Ensemble, John Eliot Gardiner & Munich Monteverdi Orchestra and Choir', 1)\n",
      "('Falamansa', 1)\n",
      "('Felix Schmidt, London Symphony Orchestra & Rafael Frühbeck de Burgos', 1)\n",
      "('Frank Sinatra', 1)\n",
      "('Frank Zappa & Captain Beefheart', 1)\n",
      "('Fretwork', 1)\n",
      "('Funk Como Le Gusta', 1)\n",
      "('Gene Krupa', 1)\n",
      "('Gerald Moore', 1)\n",
      "('Godsmack', 1)\n",
      "('Gonzaguinha', 1)\n",
      "('Gustav Mahler', 1)\n",
      "('Göteborgs Symfoniker & Neeme Järvi', 1)\n",
      "('Habib Koité and Bamada', 1)\n",
      "('Herbert Von Karajan, Mirella Freni & Wiener Philharmoniker', 1)\n",
      "('Heroes', 1)\n",
      "('Hilary Hahn, Jeffrey Kahane, Los Angeles Chamber Orchestra & Margaret Batjer', 1)\n",
      "('House Of Pain', 1)\n",
      "('Incognito', 1)\n",
      "('Itzhak Perlman', 1)\n",
      "('JET', 1)\n",
      "('James Brown', 1)\n",
      "('James Levine', 1)\n",
      "('Jimi Hendrix', 1)\n",
      "('Joe Satriani', 1)\n",
      "('Jorge Ben', 1)\n",
      "('Jota Quest', 1)\n",
      "('João Suplicy', 1)\n",
      "('Judas Priest', 1)\n",
      "('Julian Bream', 1)\n",
      "('Karsh Kale', 1)\n",
      "(\"Kent Nagano and Orchestre de l'Opéra de Lyon\", 1)\n",
      "('Lenny Kravitz', 1)\n",
      "('Leonard Bernstein & New York Philharmonic', 1)\n",
      "('Les Arts Florissants & William Christie', 1)\n",
      "('London Symphony Orchestra & Sir Charles Mackerras', 1)\n",
      "('Luciana Souza/Romero Lubambo', 1)\n",
      "('Luciano Pavarotti', 1)\n",
      "('Marcos Valle', 1)\n",
      "('Marillion', 1)\n",
      "('Marisa Monte', 1)\n",
      "('Martin Roscoe', 1)\n",
      "('Marvin Gaye', 1)\n",
      "('Maurizio Pollini', 1)\n",
      "('Mela Tenenbaum, Pro Musica Prague & Richard Kapp', 1)\n",
      "('Men At Work', 1)\n",
      "('Michele Campanella', 1)\n",
      "('Motörhead', 1)\n",
      "('Mônica Marianno', 1)\n",
      "('Mötley Crüe', 1)\n",
      "('Nash Ensemble', 1)\n",
      "('Nicolaus Esterhazy Sinfonia', 1)\n",
      "('O Rappa', 1)\n",
      "('O Terço', 1)\n",
      "('Olodum', 1)\n",
      "('Orchestra of The Age of Enlightenment', 1)\n",
      "('Orchestre Révolutionnaire et Romantique & John Eliot Gardiner', 1)\n",
      "('Os Mutantes', 1)\n",
      "('Otto Klemperer & Philharmonia Orchestra', 1)\n",
      "('Page & Plant', 1)\n",
      "('Passengers', 1)\n",
      "(\"Paul D'Ianno\", 1)\n",
      "('Philharmonia Orchestra & Sir Neville Marriner', 1)\n",
      "('Philip Glass Ensemble', 1)\n",
      "('Pink Floyd', 1)\n",
      "('Planet Hemp', 1)\n",
      "('R.E.M. Feat. Kate Pearson', 1)\n",
      "('Raimundos', 1)\n",
      "('Raul Seixas', 1)\n",
      "('Richard Marlow & The Choir of Trinity College, Cambridge', 1)\n",
      "('Roger Norrington, London Classical Players', 1)\n",
      "('Royal Philharmonic Orchestra & Sir Thomas Beecham', 1)\n",
      "('Rush', 1)\n",
      "('Scholars Baroque Ensemble', 1)\n",
      "('Scorpions', 1)\n",
      "('Sergei Prokofiev & Yuri Temirkanov', 1)\n",
      "('Sir Georg Solti & Wiener Philharmoniker', 1)\n",
      "('Sir Georg Solti, Sumi Jo & Wiener Philharmoniker', 1)\n",
      "('Soundgarden', 1)\n",
      "('Stevie Ray Vaughan & Double Trouble', 1)\n",
      "('Stone Temple Pilots', 1)\n",
      "('System Of A Down', 1)\n",
      "('Temple of the Dog', 1)\n",
      "('Terry Bozzio, Tony Levin & Steve Stevens', 1)\n",
      "('The 12 Cellists of The Berlin Philharmonic', 1)\n",
      "('The Clash', 1)\n",
      "('The Doors', 1)\n",
      "(\"The King's Singers\", 1)\n",
      "('The Police', 1)\n",
      "('The Posies', 1)\n",
      "('The Who', 1)\n",
      "('Ton Koopman', 1)\n",
      "('Toquinho & Vinícius', 1)\n",
      "('UB40', 1)\n",
      "('Velvet Revolver', 1)\n",
      "('Vinícius De Moraes', 1)\n",
      "('Wilhelm Kempff', 1)\n",
      "('Yehudi Menuhin', 1)\n",
      "('Yo-Yo Ma', 1)\n",
      "('Zeca Pagodinho', 1)\n"
     ]
    }
   ],
   "source": [
    "q = '''\n",
    "select artists.name, count(artists.name) as number\n",
    "from albums\n",
    "inner join artists\n",
    "on albums.ArtistId = artists.ArtistId\n",
    "group by artists.name\n",
    "order by number\n",
    "desc;\n",
    "'''\n",
    "\n",
    "for row in cur.execute(q):\n",
    "    print(row)"
   ]
  },
  {
   "cell_type": "markdown",
   "metadata": {},
   "source": [
    "4) Quais gêneros musicais contêm mais faixas gravadas(tracks)?"
   ]
  },
  {
   "cell_type": "code",
   "execution_count": 38,
   "metadata": {},
   "outputs": [
    {
     "name": "stdout",
     "output_type": "stream",
     "text": [
      "(0, 'GenreId', 'INTEGER', 1, None, 1)\n",
      "(1, 'Name', 'NVARCHAR(120)', 0, None, 0)\n"
     ]
    }
   ],
   "source": [
    "for row in cur.execute(\"PRAGMA table_info([genres]);\"):\n",
    "    print(row)"
   ]
  },
  {
   "cell_type": "code",
   "execution_count": 39,
   "metadata": {},
   "outputs": [
    {
     "name": "stdout",
     "output_type": "stream",
     "text": [
      "(0, 'TrackId', 'INTEGER', 1, None, 1)\n",
      "(1, 'Name', 'NVARCHAR(200)', 1, None, 0)\n",
      "(2, 'AlbumId', 'INTEGER', 0, None, 0)\n",
      "(3, 'MediaTypeId', 'INTEGER', 1, None, 0)\n",
      "(4, 'GenreId', 'INTEGER', 0, None, 0)\n",
      "(5, 'Composer', 'NVARCHAR(220)', 0, None, 0)\n",
      "(6, 'Milliseconds', 'INTEGER', 1, None, 0)\n",
      "(7, 'Bytes', 'INTEGER', 0, None, 0)\n",
      "(8, 'UnitPrice', 'NUMERIC(10,2)', 1, None, 0)\n"
     ]
    }
   ],
   "source": [
    "for row in cur.execute(\"PRAGMA table_info([tracks]);\"):\n",
    "    print(row)"
   ]
  },
  {
   "cell_type": "code",
   "execution_count": 40,
   "metadata": {},
   "outputs": [
    {
     "name": "stdout",
     "output_type": "stream",
     "text": [
      "('Rock', 1297)\n",
      "('Latin', 579)\n",
      "('Metal', 374)\n",
      "('Alternative & Punk', 332)\n",
      "('Jazz', 130)\n",
      "('TV Shows', 93)\n",
      "('Blues', 81)\n",
      "('Classical', 74)\n",
      "('Drama', 64)\n",
      "('R&B/Soul', 61)\n",
      "('Reggae', 58)\n",
      "('Pop', 48)\n",
      "('Soundtrack', 43)\n",
      "('Alternative', 40)\n",
      "('Hip Hop/Rap', 35)\n",
      "('Electronica/Dance', 30)\n",
      "('Heavy Metal', 28)\n",
      "('World', 28)\n",
      "('Sci Fi & Fantasy', 26)\n",
      "('Easy Listening', 24)\n",
      "('Comedy', 17)\n",
      "('Bossa Nova', 15)\n",
      "('Science Fiction', 13)\n",
      "('Rock And Roll', 12)\n",
      "('Opera', 1)\n"
     ]
    }
   ],
   "source": [
    "q = '''\n",
    "select genres.Name, count(tracks.name) as number\n",
    "from genres\n",
    "inner join tracks\n",
    "on genres.GenreId = tracks.GenreId\n",
    "group by genres.Name\n",
    "order by number\n",
    "desc;\n",
    "'''\n",
    "\n",
    "for row in cur.execute(q):\n",
    "    print(row)"
   ]
  },
  {
   "cell_type": "markdown",
   "metadata": {},
   "source": [
    "5) Quais os clientes (customers) que gastaram mais dinheiro em compras (invoices)?"
   ]
  },
  {
   "cell_type": "code",
   "execution_count": 41,
   "metadata": {},
   "outputs": [
    {
     "name": "stdout",
     "output_type": "stream",
     "text": [
      "(0, 'CustomerId', 'INTEGER', 1, None, 1)\n",
      "(1, 'FirstName', 'NVARCHAR(40)', 1, None, 0)\n",
      "(2, 'LastName', 'NVARCHAR(20)', 1, None, 0)\n",
      "(3, 'Company', 'NVARCHAR(80)', 0, None, 0)\n",
      "(4, 'Address', 'NVARCHAR(70)', 0, None, 0)\n",
      "(5, 'City', 'NVARCHAR(40)', 0, None, 0)\n",
      "(6, 'State', 'NVARCHAR(40)', 0, None, 0)\n",
      "(7, 'Country', 'NVARCHAR(40)', 0, None, 0)\n",
      "(8, 'PostalCode', 'NVARCHAR(10)', 0, None, 0)\n",
      "(9, 'Phone', 'NVARCHAR(24)', 0, None, 0)\n",
      "(10, 'Fax', 'NVARCHAR(24)', 0, None, 0)\n",
      "(11, 'Email', 'NVARCHAR(60)', 1, None, 0)\n",
      "(12, 'SupportRepId', 'INTEGER', 0, None, 0)\n"
     ]
    }
   ],
   "source": [
    "for row in cur.execute(\"PRAGMA table_info([customers]);\"):\n",
    "    print(row)"
   ]
  },
  {
   "cell_type": "code",
   "execution_count": 42,
   "metadata": {},
   "outputs": [
    {
     "name": "stdout",
     "output_type": "stream",
     "text": [
      "(0, 'InvoiceId', 'INTEGER', 1, None, 1)\n",
      "(1, 'CustomerId', 'INTEGER', 1, None, 0)\n",
      "(2, 'InvoiceDate', 'DATETIME', 1, None, 0)\n",
      "(3, 'BillingAddress', 'NVARCHAR(70)', 0, None, 0)\n",
      "(4, 'BillingCity', 'NVARCHAR(40)', 0, None, 0)\n",
      "(5, 'BillingState', 'NVARCHAR(40)', 0, None, 0)\n",
      "(6, 'BillingCountry', 'NVARCHAR(40)', 0, None, 0)\n",
      "(7, 'BillingPostalCode', 'NVARCHAR(10)', 0, None, 0)\n",
      "(8, 'Total', 'NUMERIC(10,2)', 1, None, 0)\n"
     ]
    }
   ],
   "source": [
    "for row in cur.execute(\"PRAGMA table_info([invoices]);\"):\n",
    "    print(row)"
   ]
  },
  {
   "cell_type": "code",
   "execution_count": 49,
   "metadata": {},
   "outputs": [
    {
     "name": "stdout",
     "output_type": "stream",
     "text": [
      "('Helena', 'Holý', 49.62)\n",
      "('Richard', 'Cunningham', 47.62)\n",
      "('Luis', 'Rojas', 46.62)\n",
      "('Hugh', \"O'Reilly\", 45.62)\n",
      "('Ladislav', 'Kovács', 45.62)\n",
      "('Frank', 'Ralston', 43.62)\n",
      "('Fynn', 'Zimmermann', 43.62)\n",
      "('Julia', 'Barnett', 43.62)\n",
      "('Astrid', 'Gruber', 42.62)\n",
      "('Victor', 'Stevens', 42.62)\n",
      "('Terhi', 'Hämäläinen', 41.62)\n",
      "('František', 'Wichterlová', 40.62)\n",
      "('Isabelle', 'Mercier', 40.62)\n",
      "('Johannes', 'Van der Berg', 40.62)\n",
      "('Bjørn', 'Hansen', 39.62)\n",
      "('Dan', 'Miller', 39.62)\n",
      "('François', 'Tremblay', 39.62)\n",
      "('Heather', 'Leacock', 39.62)\n",
      "('Jack', 'Smith', 39.62)\n",
      "('João', 'Fernandes', 39.62)\n",
      "('Luís', 'Gonçalves', 39.62)\n",
      "('Wyatt', 'Girard', 39.62)\n",
      "('Camille', 'Bernard', 38.62)\n",
      "('Dominique', 'Lefebvre', 38.62)\n",
      "('Jennifer', 'Peterson', 38.62)\n",
      "('Joakim', 'Johansson', 38.62)\n",
      "('Manoj', 'Pareek', 38.62)\n",
      "('Tim', 'Goyer', 38.62)\n",
      "('Aaron', 'Mitchell', 37.62)\n",
      "('Alexandre', 'Rocha', 37.62)\n",
      "('Daan', 'Peeters', 37.62)\n",
      "('Diego', 'Gutiérrez', 37.62)\n",
      "('Eduardo', 'Martins', 37.62)\n",
      "('Edward', 'Francis', 37.62)\n",
      "('Ellie', 'Sullivan', 37.62)\n",
      "('Emma', 'Jones', 37.62)\n",
      "('Enrique', 'Muñoz', 37.62)\n",
      "('Fernanda', 'Ramos', 37.62)\n",
      "('Frank', 'Harris', 37.62)\n",
      "('Hannah', 'Schneider', 37.62)\n",
      "('John', 'Gordon', 37.62)\n",
      "('Kara', 'Nielsen', 37.62)\n",
      "('Kathy', 'Chase', 37.62)\n",
      "('Leonie', 'Köhler', 37.62)\n",
      "('Lucas', 'Mancini', 37.62)\n",
      "('Madalena', 'Sampaio', 37.62)\n",
      "('Marc', 'Dubois', 37.62)\n",
      "('Mark', 'Philips', 37.62)\n",
      "('Mark', 'Taylor', 37.62)\n",
      "('Martha', 'Silk', 37.62)\n",
      "('Michelle', 'Brooks', 37.62)\n",
      "('Niklas', 'Schröder', 37.62)\n",
      "('Patrick', 'Gray', 37.62)\n",
      "('Phil', 'Hughes', 37.62)\n",
      "('Robert', 'Brown', 37.62)\n",
      "('Roberto', 'Almeida', 37.62)\n",
      "('Stanisław', 'Wójcik', 37.62)\n",
      "('Steve', 'Murray', 37.62)\n",
      "('Puja', 'Srivastava', 36.64)\n"
     ]
    }
   ],
   "source": [
    "q = '''\n",
    "select customers.FirstName, customers.LastName, round(sum(invoices.Total),2) as total\n",
    "from customers\n",
    "inner join invoices\n",
    "on customers.CustomerId = invoices.CustomerId\n",
    "group by customers.FirstName, customers.Lastname\n",
    "order by total\n",
    "desc;\n",
    "'''\n",
    "\n",
    "for row in cur.execute(q):\n",
    "    print(row)"
   ]
  },
  {
   "cell_type": "markdown",
   "metadata": {},
   "source": [
    "6) Quais foram as faixas mais compradas, e de qual artista são?"
   ]
  },
  {
   "cell_type": "code",
   "execution_count": null,
   "metadata": {},
   "outputs": [],
   "source": []
  },
  {
   "cell_type": "code",
   "execution_count": null,
   "metadata": {},
   "outputs": [],
   "source": [
    "q = '''\n",
    "select customers.FirstName, customers.LastName, round(sum(invoices.Total),2) as total\n",
    "from customers\n",
    "inner join invoices\n",
    "on customers.CustomerId = invoices.CustomerId\n",
    "group by customers.FirstName, customers.Lastname\n",
    "order by total\n",
    "desc;\n",
    "'''\n",
    "\n",
    "for row in cur.execute(q):\n",
    "    print(row)"
   ]
  },
  {
   "cell_type": "markdown",
   "metadata": {},
   "source": [
    "7) Crie um histograma de faixas mais compradas, usando o matplotlib  \n",
    "https://matplotlib.org/devdocs/api/_as_gen/matplotlib.pyplot.hist.html"
   ]
  },
  {
   "cell_type": "code",
   "execution_count": null,
   "metadata": {},
   "outputs": [],
   "source": []
  }
 ],
 "metadata": {
  "kernelspec": {
   "display_name": "Python 3",
   "language": "python",
   "name": "python3"
  }
 },
 "nbformat": 4,
 "nbformat_minor": 2
}
