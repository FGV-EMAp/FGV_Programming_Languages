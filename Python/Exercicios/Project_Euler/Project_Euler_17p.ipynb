{
 "cells": [
  {
   "cell_type": "markdown",
   "metadata": {},
   "source": [
    "FGV - Escola de Matemática Aplicada\n",
    "==\n",
    "Curso de Verão - Introdução à Programação com a Linguagem Python\n",
    "--"
   ]
  },
  {
   "cell_type": "markdown",
   "metadata": {},
   "source": [
    "## Project Euler:"
   ]
  },
  {
   "cell_type": "markdown",
   "metadata": {},
   "source": [
    "## Resolução do problema 17 adaptado:"
   ]
  },
  {
   "cell_type": "markdown",
   "metadata": {},
   "source": [
    "Enunciado: \n",
    "\n",
    "Contando as letras dos números\n",
    "\n",
    "Se os números de 1 a 5 fossem escritos em palavras: um, dois, três, quatro, cinco, então teríamos utilizado 2 + 4 + 4 + 6 + 5 = 21 letras no total.\n",
    "Se todos os números de 1 até 1000 fossem escritos em palavras, quantas letras nós teríamos utilizado?\n",
    " \n",
    "Traduzido e adaptado de: http://projecteuler.net/index.php?section=problems&id=17"
   ]
  },
  {
   "cell_type": "code",
   "execution_count": 2,
   "metadata": {
    "collapsed": true
   },
   "outputs": [],
   "source": [
    "dic_unidade = {1:'um', 2:'dois', 3:'tres', 4:'quatro', 5:'cinco', \n",
    "               6:'seis', 7:'sete', 8:'oito', 9:'nove'}\n",
    "dic_dezena = {1:'dez', 2:'vinte', 3:'trinta', 4:'quarenta', 5:'cinquenta', \n",
    "              6:'sessenta', 7:'setenta', 8:'oitenta', 9:'noventa',\n",
    "              11:'onze', 12:'doze', 13:'treze', 14:'catorze', 15:'quinze',\n",
    "              16:'dezesseis', 17:'dezessete', 18:'dezoito', 19:'dezenove'}\n",
    "dic_centena = {1:'cento', 2:'duzentos', 3:'trezentos', 4:'quatrocentos', 5:'quinhentos', \n",
    "               6:'seiscentos', 7:'setecentos', 8:'oitocentos', 9:'novecentos'}"
   ]
  },
  {
   "cell_type": "code",
   "execution_count": 3,
   "metadata": {
    "collapsed": true
   },
   "outputs": [],
   "source": [
    "def retorna_extenso(numero):\n",
    "    if len(str(numero)) == 1:\n",
    "        return(dic_unidade[numero])\n",
    "    elif len(str(numero)) == 2:\n",
    "        if numero%10 == 0:\n",
    "            return(dic_dezena[numero/10])\n",
    "        elif numero < 20:\n",
    "            return(dic_dezena[numero])\n",
    "        else:\n",
    "            return(dic_dezena[int(numero/10)] + ' e ' + dic_unidade[numero%10])\n",
    "    elif len(str(numero)) == 3:\n",
    "        if numero == 100:\n",
    "            return('cem')\n",
    "        elif numero%100 == 0:\n",
    "            return(dic_centena[int(numero/100)])\n",
    "        elif numero%10 == 0:\n",
    "            return(dic_centena[int(numero/100)] + ' e ' + dic_dezena[int((numero%100)/10)])\n",
    "        elif numero%100 < 10:\n",
    "            return(dic_centena[int(numero/100)] + ' e ' + dic_unidade[numero%100])\n",
    "        elif numero%100 < 20:\n",
    "            return(dic_centena[int(numero/100)] + ' e ' + dic_dezena[numero%100])\n",
    "        else:\n",
    "            return(dic_centena[int(numero/100)] + \n",
    "                  ' e ' + dic_dezena[int((numero%100)/10)] + \n",
    "                  ' e ' + dic_unidade[int((numero%100)%10)])"
   ]
  },
  {
   "cell_type": "code",
   "execution_count": 4,
   "metadata": {
    "collapsed": false
   },
   "outputs": [
    {
     "name": "stdout",
     "output_type": "stream",
     "text": [
      "tres\n",
      "noventa\n",
      "cinquenta e sete\n",
      "dezesseis\n",
      "quarenta\n",
      "cem\n",
      "cento e setenta e tres\n",
      "seiscentos e cinquenta e dois\n",
      "trezentos\n",
      "novecentos e quinze\n",
      "cento e cinquenta\n",
      "cento e cinquenta e cinco\n",
      "cento e quatro\n",
      "cento e dez\n",
      "duzentos e dez\n",
      "duzentos e onze\n",
      "novecentos e noventa e nove\n"
     ]
    }
   ],
   "source": [
    "print(retorna_extenso(3))\n",
    "print(retorna_extenso(90))\n",
    "print(retorna_extenso(57))\n",
    "print(retorna_extenso(16))\n",
    "print(retorna_extenso(40))\n",
    "print(retorna_extenso(100))\n",
    "print(retorna_extenso(173))\n",
    "print(retorna_extenso(652))\n",
    "print(retorna_extenso(300))\n",
    "print(retorna_extenso(915))\n",
    "print(retorna_extenso(150))\n",
    "print(retorna_extenso(155))\n",
    "print(retorna_extenso(104))\n",
    "print(retorna_extenso(110))\n",
    "print(retorna_extenso(210))\n",
    "print(retorna_extenso(211))\n",
    "print(retorna_extenso(999))"
   ]
  },
  {
   "cell_type": "code",
   "execution_count": 5,
   "metadata": {
    "collapsed": true
   },
   "outputs": [],
   "source": [
    "def conta_caracteres(string):\n",
    "    string = string.replace(' ','')\n",
    "    return(len(string))"
   ]
  },
  {
   "cell_type": "code",
   "execution_count": 6,
   "metadata": {
    "collapsed": false
   },
   "outputs": [
    {
     "data": {
      "text/plain": [
       "18"
      ]
     },
     "execution_count": 6,
     "metadata": {},
     "output_type": "execute_result"
    }
   ],
   "source": [
    "conta_caracteres(retorna_extenso(173))"
   ]
  },
  {
   "cell_type": "code",
   "execution_count": 7,
   "metadata": {
    "collapsed": false
   },
   "outputs": [
    {
     "name": "stdout",
     "output_type": "stream",
     "text": [
      "19659\n"
     ]
    }
   ],
   "source": [
    "total = 0\n",
    "for numero in range(1,1000):\n",
    "    total += conta_caracteres(retorna_extenso(numero))\n",
    "print(total)    "
   ]
  },
  {
   "cell_type": "code",
   "execution_count": 8,
   "metadata": {
    "collapsed": true
   },
   "outputs": [],
   "source": [
    "import random"
   ]
  },
  {
   "cell_type": "code",
   "execution_count": 9,
   "metadata": {
    "collapsed": false
   },
   "outputs": [
    {
     "data": {
      "text/plain": [
       "2"
      ]
     },
     "execution_count": 9,
     "metadata": {},
     "output_type": "execute_result"
    }
   ],
   "source": [
    "random.randrange(4)"
   ]
  },
  {
   "cell_type": "code",
   "execution_count": 10,
   "metadata": {
    "collapsed": false
   },
   "outputs": [
    {
     "name": "stdout",
     "output_type": "stream",
     "text": [
      "trezentos e sessenta e cinco\n",
      "trezentos e setenta e tres\n",
      "novecentos e oitenta e nove\n",
      "quinhentos e dezenove\n",
      "duzentos e sete\n",
      "oitocentos e cinquenta e cinco\n",
      "oitocentos e vinte e tres\n",
      "trezentos e quarenta e dois\n",
      "quinhentos e catorze\n",
      "quinhentos e trinta e oito\n",
      "setecentos e sessenta e sete\n",
      "duzentos e sessenta e cinco\n",
      "seiscentos e noventa e oito\n",
      "quatrocentos e setenta\n",
      "cento e setenta e nove\n",
      "duzentos e sessenta e oito\n",
      "quatrocentos e vinte e cinco\n",
      "quatrocentos e sessenta e tres\n",
      "setenta\n",
      "oitocentos e noventa e sete\n",
      "trezentos e trinta e cinco\n",
      "seiscentos e trinta\n",
      "trezentos e trinta e tres\n",
      "seiscentos e sessenta\n",
      "novecentos e tres\n",
      "duzentos e trinta e seis\n",
      "trezentos e quarenta e sete\n",
      "trinta e nove\n",
      "trezentos e trinta e seis\n",
      "duzentos e noventa e sete\n",
      "novecentos e noventa e um\n",
      "seiscentos e quatro\n",
      "oitocentos e trinta e sete\n",
      "quinhentos e oitenta e dois\n",
      "duzentos e quarenta e dois\n",
      "seiscentos e setenta e quatro\n",
      "trezentos e dezenove\n",
      "novecentos e sessenta e cinco\n",
      "cento e oitenta e tres\n",
      "quatrocentos e dezoito\n"
     ]
    }
   ],
   "source": [
    "for i in range(40):\n",
    "    print(retorna_extenso(random.randrange(1,1000)))"
   ]
  },
  {
   "cell_type": "code",
   "execution_count": null,
   "metadata": {
    "collapsed": true
   },
   "outputs": [],
   "source": []
  },
  {
   "cell_type": "code",
   "execution_count": null,
   "metadata": {
    "collapsed": true
   },
   "outputs": [],
   "source": []
  }
 ],
 "metadata": {
  "kernelspec": {
   "display_name": "Python 3",
   "language": "python",
   "name": "python3"
  },
  "language_info": {
   "codemirror_mode": {
    "name": "ipython",
    "version": 3
   },
   "file_extension": ".py",
   "mimetype": "text/x-python",
   "name": "python",
   "nbconvert_exporter": "python",
   "pygments_lexer": "ipython3",
   "version": "3.4.3+"
  }
 },
 "nbformat": 4,
 "nbformat_minor": 0
}
