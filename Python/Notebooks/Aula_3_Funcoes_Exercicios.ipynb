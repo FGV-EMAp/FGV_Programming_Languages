{
 "cells": [
  {
   "cell_type": "markdown",
   "metadata": {},
   "source": [
    "FGV - Escola de Matemática Aplicada\n",
    "==\n",
    "Introdução à Programação com a Linguagem Python\n",
    "--"
   ]
  },
  {
   "cell_type": "markdown",
   "metadata": {},
   "source": [
    "### Funções:"
   ]
  },
  {
   "cell_type": "code",
   "execution_count": 1,
   "metadata": {
    "collapsed": true
   },
   "outputs": [],
   "source": [
    "def faz_nada():\n",
    "    print('não fiz nada')"
   ]
  },
  {
   "cell_type": "code",
   "execution_count": 2,
   "metadata": {},
   "outputs": [
    {
     "name": "stdout",
     "output_type": "stream",
     "text": [
      "não fiz nada\n"
     ]
    }
   ],
   "source": [
    "faz_nada()"
   ]
  },
  {
   "cell_type": "code",
   "execution_count": 3,
   "metadata": {},
   "outputs": [
    {
     "name": "stdout",
     "output_type": "stream",
     "text": [
      "não fiz nada\n"
     ]
    }
   ],
   "source": [
    "x = faz_nada()"
   ]
  },
  {
   "cell_type": "code",
   "execution_count": 5,
   "metadata": {},
   "outputs": [
    {
     "name": "stdout",
     "output_type": "stream",
     "text": [
      "None\n"
     ]
    }
   ],
   "source": [
    "print(x)"
   ]
  },
  {
   "cell_type": "code",
   "execution_count": 6,
   "metadata": {
    "collapsed": true
   },
   "outputs": [],
   "source": [
    "def soma(x,y):\n",
    "    return x+y"
   ]
  },
  {
   "cell_type": "code",
   "execution_count": 10,
   "metadata": {},
   "outputs": [
    {
     "data": {
      "text/plain": [
       "9"
      ]
     },
     "execution_count": 10,
     "metadata": {},
     "output_type": "execute_result"
    }
   ],
   "source": [
    "soma(3,6)"
   ]
  },
  {
   "cell_type": "code",
   "execution_count": 11,
   "metadata": {},
   "outputs": [
    {
     "name": "stdout",
     "output_type": "stream",
     "text": [
      "7\n"
     ]
    }
   ],
   "source": [
    "x = soma(2,5)\n",
    "print(x)"
   ]
  },
  {
   "cell_type": "code",
   "execution_count": 22,
   "metadata": {
    "collapsed": true
   },
   "outputs": [],
   "source": [
    "def diz_se_e_par(numero):\n",
    "    if numero%2 == 0:\n",
    "        return 'Par'\n",
    "    else:\n",
    "        return 'Ímpar'"
   ]
  },
  {
   "cell_type": "code",
   "execution_count": 23,
   "metadata": {},
   "outputs": [
    {
     "name": "stdout",
     "output_type": "stream",
     "text": [
      "Ímpar\n"
     ]
    }
   ],
   "source": [
    "resposta = diz_se_e_par(235)\n",
    "print(resposta)"
   ]
  },
  {
   "cell_type": "code",
   "execution_count": null,
   "metadata": {
    "collapsed": true
   },
   "outputs": [],
   "source": [
    "def soma2(*args):\n",
    "    print(args)\n",
    "    print('a soma é {}'.format(sum(args)))\n",
    "    return sum(args)"
   ]
  },
  {
   "cell_type": "code",
   "execution_count": 86,
   "metadata": {},
   "outputs": [
    {
     "name": "stdout",
     "output_type": "stream",
     "text": [
      "(23, 45, 18)\n",
      "a soma é 86\n"
     ]
    }
   ],
   "source": [
    "y = soma2(23, 45, 18)\n",
    "#print(y)"
   ]
  },
  {
   "cell_type": "code",
   "execution_count": 12,
   "metadata": {
    "collapsed": true
   },
   "outputs": [],
   "source": [
    "def ordem(x,y,z):\n",
    "    if x >= y and x >= z:\n",
    "        print('o maior é {}'.format(x))\n",
    "        if y >= z:\n",
    "            print('o do meio é {}'.format(y))\n",
    "            print('o menor é {}'.format(z))\n",
    "        else:\n",
    "            print('o do meio é {}'.format(z))\n",
    "            print('o menor é {}'.format(y))\n",
    "    elif y >= x and y >= z:\n",
    "        print('o maior é {}'.format(y))\n",
    "        if x >= z:\n",
    "            print('o do meio é {}'.format(x))\n",
    "            print('o menor é {}'.format(z))\n",
    "        else:\n",
    "            print('o do meio é {}'.format(z))\n",
    "            print('o menor é {}'.format(x))\n",
    "    else:\n",
    "        print('o maior é {}'.format(z))\n",
    "        if x >= y:\n",
    "            print('o do meio é {}'.format(x))\n",
    "            print('o menor é {}'.format(y))\n",
    "        else:\n",
    "            print('o do meio é {}'.format(y))\n",
    "            print('o menor é {}'.format(x))"
   ]
  },
  {
   "cell_type": "code",
   "execution_count": 13,
   "metadata": {},
   "outputs": [
    {
     "name": "stdout",
     "output_type": "stream",
     "text": [
      "o maior é 98\n",
      "o do meio é 56\n",
      "o menor é 21\n"
     ]
    }
   ],
   "source": [
    "ordem(56,21,98)"
   ]
  },
  {
   "cell_type": "code",
   "execution_count": 18,
   "metadata": {
    "collapsed": true
   },
   "outputs": [],
   "source": [
    "def compara(x,y):\n",
    "    if x >= y:\n",
    "        print('o do meio é {}'.format(x))\n",
    "        print('o menor é {}'.format(y))\n",
    "    else:\n",
    "        print('o do meio é {}'.format(y))\n",
    "        print('o menor é {}'.format(x))\n",
    "\n",
    "def ordem2(x,y,z):\n",
    "    if x >= y and x >= z:\n",
    "        print('o maior é {}'.format(x))\n",
    "        compara(y,z)\n",
    "    elif y >= x and y >= z:\n",
    "        print('o maior é {}'.format(y))\n",
    "        compara(x,z)\n",
    "    else:\n",
    "        print('o maior é {}'.format(z))\n",
    "        compara(x,y)"
   ]
  },
  {
   "cell_type": "code",
   "execution_count": 20,
   "metadata": {
    "collapsed": true
   },
   "outputs": [],
   "source": [
    "def anuncia(x,y):\n",
    "    print('o do meio é {}'.format(x))\n",
    "    print('o menor é {}'.format(y))\n",
    "    \n",
    "#def anuncia(status,numero):\n",
    "#    print('O {} é {}'.format(status, numero))\n",
    "        \n",
    "def compara2(x,y):\n",
    "    if x >= y:\n",
    "        anuncia(x,y)\n",
    "    else:\n",
    "        anuncia(y,x)\n",
    "\n",
    "def ordem2(x,y,z):\n",
    "    if x >= y and x >= z:\n",
    "        print('o maior é {}'.format(x))\n",
    "        compara(y,z)\n",
    "    elif y >= x and y >= z:\n",
    "        print('o maior é {}'.format(y))\n",
    "        compara(x,z)\n",
    "    else:\n",
    "        print('o maior é {}'.format(z))\n",
    "        compara(x,y)"
   ]
  },
  {
   "cell_type": "code",
   "execution_count": 21,
   "metadata": {},
   "outputs": [
    {
     "name": "stdout",
     "output_type": "stream",
     "text": [
      "o maior é 98\n",
      "o do meio é 56\n",
      "o menor é 21\n"
     ]
    }
   ],
   "source": [
    "ordem2(56,21,98)"
   ]
  },
  {
   "cell_type": "code",
   "execution_count": 11,
   "metadata": {
    "collapsed": true
   },
   "outputs": [],
   "source": [
    "def ordem3(x,y,z):\n",
    "    l = [x,y,z]\n",
    "    l.sort()\n",
    "    anuncia('maior',l[2])\n",
    "    anuncia('do meio',l[1])\n",
    "    anuncia('menor',l[0])"
   ]
  },
  {
   "cell_type": "code",
   "execution_count": 9,
   "metadata": {},
   "outputs": [
    {
     "name": "stdout",
     "output_type": "stream",
     "text": [
      "O maior é 98\n",
      "O do meio é 56\n",
      "O menor é 56\n"
     ]
    }
   ],
   "source": [
    "ordem2(56,56,98)"
   ]
  },
  {
   "cell_type": "code",
   "execution_count": 24,
   "metadata": {
    "collapsed": true
   },
   "outputs": [],
   "source": [
    "#Cuidado com valores altos na função abaixo\n",
    "import time\n",
    "def fibo_recursivo(n):\n",
    "    if n <= 0:\n",
    "        print('número inválido')\n",
    "        return\n",
    "    if n == 1:\n",
    "        return 0\n",
    "    elif n == 2:\n",
    "        return 1\n",
    "    else:\n",
    "        #print(fibo_recursivo(n-1) + fibo_recursivo(n-2))\n",
    "        return fibo_recursivo(n-1) + fibo_recursivo(n-2)"
   ]
  },
  {
   "cell_type": "code",
   "execution_count": 29,
   "metadata": {},
   "outputs": [
    {
     "name": "stdout",
     "output_type": "stream",
     "text": [
      "63245986\n",
      "58.63754081726074\n"
     ]
    }
   ],
   "source": [
    "t0 = time.time()\n",
    "print(fibo_recursivo(40))\n",
    "print(time.time() - t0)"
   ]
  },
  {
   "cell_type": "code",
   "execution_count": 13,
   "metadata": {},
   "outputs": [
    {
     "name": "stdout",
     "output_type": "stream",
     "text": [
      "1\n",
      "2\n",
      "3\n",
      "5\n",
      "8\n",
      "13\n",
      "21\n",
      "34\n",
      "55\n",
      "89\n",
      "144\n",
      "233\n",
      "377\n",
      "610\n",
      "987\n"
     ]
    }
   ],
   "source": [
    "x,y = 1,1\n",
    "while y < 1000:\n",
    "    x,y = y,x+y\n",
    "    print(x)"
   ]
  },
  {
   "cell_type": "code",
   "execution_count": 49,
   "metadata": {
    "collapsed": true
   },
   "outputs": [],
   "source": [
    "def fibo_nao_recursivo(n):\n",
    "    fibo1 = 0\n",
    "    fibo2 = 1\n",
    "    for numero in range(1,n):\n",
    "        fibo2, fibo1 = fibo2+fibo1, fibo2\n",
    "        #print(fibo2)\n",
    "    return fibo1"
   ]
  },
  {
   "cell_type": "code",
   "execution_count": 51,
   "metadata": {},
   "outputs": [
    {
     "name": "stdout",
     "output_type": "stream",
     "text": [
      "108788617463475645289761992289049744844995705477812699099751202749393926359816304226\n",
      "0.0008242130279541016\n"
     ]
    }
   ],
   "source": [
    "t0 = time.time()\n",
    "print(fibo_nao_recursivo(400))\n",
    "print(time.time() - t0)"
   ]
  },
  {
   "cell_type": "code",
   "execution_count": 1,
   "metadata": {
    "collapsed": true
   },
   "outputs": [],
   "source": [
    "def raiz(n,raiz=2):\n",
    "    return n ** (1./raiz)"
   ]
  },
  {
   "cell_type": "code",
   "execution_count": 5,
   "metadata": {},
   "outputs": [
    {
     "data": {
      "text/plain": [
       "3.0"
      ]
     },
     "execution_count": 5,
     "metadata": {},
     "output_type": "execute_result"
    }
   ],
   "source": [
    "raiz(27,3)"
   ]
  },
  {
   "cell_type": "code",
   "execution_count": 6,
   "metadata": {},
   "outputs": [
    {
     "data": {
      "text/plain": [
       "3.9999999999999996"
      ]
     },
     "execution_count": 6,
     "metadata": {},
     "output_type": "execute_result"
    }
   ],
   "source": [
    "raiz(64,3)"
   ]
  },
  {
   "cell_type": "code",
   "execution_count": 7,
   "metadata": {
    "collapsed": true
   },
   "outputs": [],
   "source": [
    "import math"
   ]
  },
  {
   "cell_type": "code",
   "execution_count": 8,
   "metadata": {
    "collapsed": true
   },
   "outputs": [],
   "source": [
    "def raiz2(n,raiz=2):\n",
    "    return math.pow(n,(1./raiz))"
   ]
  },
  {
   "cell_type": "code",
   "execution_count": 9,
   "metadata": {},
   "outputs": [
    {
     "data": {
      "text/plain": [
       "3.9999999999999996"
      ]
     },
     "execution_count": 9,
     "metadata": {},
     "output_type": "execute_result"
    }
   ],
   "source": [
    "raiz2(64,3)"
   ]
  },
  {
   "cell_type": "code",
   "execution_count": 21,
   "metadata": {
    "collapsed": true
   },
   "outputs": [],
   "source": [
    "def qualquer(primeiro=10,segundo=11):\n",
    "    return segundo + primeiro"
   ]
  },
  {
   "cell_type": "code",
   "execution_count": 22,
   "metadata": {},
   "outputs": [
    {
     "name": "stdout",
     "output_type": "stream",
     "text": [
      "21\n"
     ]
    }
   ],
   "source": [
    "x = qualquer()\n",
    "print(x)"
   ]
  },
  {
   "cell_type": "code",
   "execution_count": 27,
   "metadata": {},
   "outputs": [
    {
     "name": "stdout",
     "output_type": "stream",
     "text": [
      "22\n"
     ]
    }
   ],
   "source": [
    "x = qualquer(11)\n",
    "print(x)"
   ]
  },
  {
   "cell_type": "code",
   "execution_count": 28,
   "metadata": {},
   "outputs": [
    {
     "data": {
      "text/plain": [
       "13"
      ]
     },
     "execution_count": 28,
     "metadata": {},
     "output_type": "execute_result"
    }
   ],
   "source": [
    "qualquer(2) # primeiro = 2 e segundo = 11"
   ]
  },
  {
   "cell_type": "code",
   "execution_count": 29,
   "metadata": {},
   "outputs": [
    {
     "data": {
      "text/plain": [
       "12"
      ]
     },
     "execution_count": 29,
     "metadata": {},
     "output_type": "execute_result"
    }
   ],
   "source": [
    "qualquer(segundo=2) #primeiro = 10 e segundo = 2"
   ]
  },
  {
   "cell_type": "code",
   "execution_count": 14,
   "metadata": {},
   "outputs": [],
   "source": [
    "a, *b, c, d = (1,2,3,4,5,6,7,8,9)"
   ]
  },
  {
   "cell_type": "code",
   "execution_count": 15,
   "metadata": {},
   "outputs": [
    {
     "name": "stdout",
     "output_type": "stream",
     "text": [
      "1\n",
      "[2, 3, 4, 5, 6, 7]\n",
      "8\n",
      "9\n"
     ]
    }
   ],
   "source": [
    "print(a)\n",
    "print(b)\n",
    "print(c)\n",
    "print(d)"
   ]
  },
  {
   "cell_type": "code",
   "execution_count": 38,
   "metadata": {},
   "outputs": [],
   "source": [
    "a, *b, c, d = (1,2,3,4,5,6,7,8,9)"
   ]
  },
  {
   "cell_type": "code",
   "execution_count": 39,
   "metadata": {
    "collapsed": true
   },
   "outputs": [],
   "source": [
    "def indefinido(*args):\n",
    "    for arg in args:\n",
    "        print(arg)"
   ]
  },
  {
   "cell_type": "code",
   "execution_count": 40,
   "metadata": {},
   "outputs": [
    {
     "name": "stdout",
     "output_type": "stream",
     "text": [
      "5\n",
      "1\n",
      "2\n",
      "string\n"
     ]
    }
   ],
   "source": [
    "indefinido(5,1,2,'string')"
   ]
  },
  {
   "cell_type": "code",
   "execution_count": 41,
   "metadata": {
    "collapsed": true
   },
   "outputs": [],
   "source": [
    "def soma_muitos(*args):\n",
    "    print(args)\n",
    "    return sum(args)"
   ]
  },
  {
   "cell_type": "code",
   "execution_count": 42,
   "metadata": {},
   "outputs": [
    {
     "name": "stdout",
     "output_type": "stream",
     "text": [
      "(1, 2, 3, 4, 5, 6, 7, 8, 9, 10)\n"
     ]
    },
    {
     "data": {
      "text/plain": [
       "55"
      ]
     },
     "execution_count": 42,
     "metadata": {},
     "output_type": "execute_result"
    }
   ],
   "source": [
    "soma_muitos(1,2,3,4,5,6,7,8,9,10)"
   ]
  },
  {
   "cell_type": "code",
   "execution_count": 56,
   "metadata": {
    "collapsed": true
   },
   "outputs": [],
   "source": [
    "def muitos_args(a,*args):\n",
    "    print(a)\n",
    "    print(args)"
   ]
  },
  {
   "cell_type": "code",
   "execution_count": 57,
   "metadata": {},
   "outputs": [
    {
     "name": "stdout",
     "output_type": "stream",
     "text": [
      "1\n",
      "(2, 3, 4, 5)\n"
     ]
    }
   ],
   "source": [
    "muitos_args(1,2,3,4,5)"
   ]
  },
  {
   "cell_type": "code",
   "execution_count": 58,
   "metadata": {
    "collapsed": true
   },
   "outputs": [],
   "source": [
    "def indefinido2(*args, **kwargs):\n",
    "    print(args)\n",
    "    print()\n",
    "    print(kwargs)"
   ]
  },
  {
   "cell_type": "code",
   "execution_count": 59,
   "metadata": {},
   "outputs": [
    {
     "name": "stdout",
     "output_type": "stream",
     "text": [
      "(2, 3, 4)\n",
      "\n",
      "{'nome': 'Renato', 'bairro': 'Botafogo', 'inst': 'FGV'}\n"
     ]
    }
   ],
   "source": [
    "indefinido2(2,3,4,nome='Renato',inst='FGV', bairro='Botafogo')"
   ]
  },
  {
   "cell_type": "code",
   "execution_count": 61,
   "metadata": {},
   "outputs": [
    {
     "name": "stdout",
     "output_type": "stream",
     "text": [
      "()\n",
      "\n",
      "{'mensagem': 'Hello World'}\n"
     ]
    }
   ],
   "source": [
    "indefinido2(mensagem='Hello World')"
   ]
  },
  {
   "cell_type": "code",
   "execution_count": 62,
   "metadata": {
    "collapsed": true
   },
   "outputs": [],
   "source": [
    "def recebe_notas(**kwargs):\n",
    "    for chave, valor in kwargs.items():\n",
    "        print('A chave é {} e o valor é {}'.format(chave,valor))\n",
    "    if 'Matematica' in kwargs:\n",
    "        print('A nota de Matemática é {}'.format(kwargs['Matematica']))\n",
    "    else:\n",
    "        print('Não foi passada a nota de Matemática')"
   ]
  },
  {
   "cell_type": "code",
   "execution_count": 63,
   "metadata": {},
   "outputs": [
    {
     "name": "stdout",
     "output_type": "stream",
     "text": [
      "A chave é História e o valor é 6\n",
      "A chave é Física e o valor é 9\n",
      "A chave é Portugues e o valor é 8\n",
      "Não foi passada a nota de Matemática\n"
     ]
    }
   ],
   "source": [
    "recebe_notas(Física=9,Portugues=8, História=6)"
   ]
  },
  {
   "cell_type": "code",
   "execution_count": 48,
   "metadata": {},
   "outputs": [
    {
     "name": "stdout",
     "output_type": "stream",
     "text": [
      "A chave é Historia e o valor é 8\n",
      "Não foi passada a nota de Matemática\n"
     ]
    }
   ],
   "source": [
    "recebe_notas(Historia=8)"
   ]
  },
  {
   "cell_type": "code",
   "execution_count": 83,
   "metadata": {},
   "outputs": [],
   "source": [
    "def mostra_e_soma(*args):\n",
    "    for valor in args:\n",
    "        print('Valor:\\t{0:7.2f}'.format(valor))\n",
    "    print('_______________')\n",
    "    print('Soma:\\t{0:7.2f}'.format(sum(args)))"
   ]
  },
  {
   "cell_type": "code",
   "execution_count": 84,
   "metadata": {},
   "outputs": [
    {
     "name": "stdout",
     "output_type": "stream",
     "text": [
      "Valor:\t  23.00\n",
      "Valor:\t  45.00\n",
      "Valor:\t 124.00\n",
      "Valor:\t  34.60\n",
      "Valor:\t  98.24\n",
      "_______________\n",
      "Soma:\t 324.84\n"
     ]
    }
   ],
   "source": [
    "mostra_e_soma(23,45,124,34.6,98.236)"
   ]
  },
  {
   "cell_type": "code",
   "execution_count": 85,
   "metadata": {},
   "outputs": [
    {
     "name": "stdout",
     "output_type": "stream",
     "text": [
      "Entre com seu nome: Renato\n"
     ]
    }
   ],
   "source": [
    "nome = input('Entre com seu nome: ')"
   ]
  },
  {
   "cell_type": "code",
   "execution_count": 86,
   "metadata": {},
   "outputs": [
    {
     "data": {
      "text/plain": [
       "'Renato'"
      ]
     },
     "execution_count": 86,
     "metadata": {},
     "output_type": "execute_result"
    }
   ],
   "source": [
    "nome"
   ]
  },
  {
   "cell_type": "code",
   "execution_count": 109,
   "metadata": {},
   "outputs": [
    {
     "name": "stdout",
     "output_type": "stream",
     "text": [
      "Entre com a idade de seus pais 45 e 78\n"
     ]
    }
   ],
   "source": [
    "valores = input('Entre com a idade de seus pais ')"
   ]
  },
  {
   "cell_type": "code",
   "execution_count": 110,
   "metadata": {},
   "outputs": [
    {
     "name": "stdout",
     "output_type": "stream",
     "text": [
      "45 e 78\n"
     ]
    }
   ],
   "source": [
    "print(valores)"
   ]
  },
  {
   "cell_type": "code",
   "execution_count": 111,
   "metadata": {},
   "outputs": [],
   "source": [
    "import re"
   ]
  },
  {
   "cell_type": "code",
   "execution_count": 112,
   "metadata": {},
   "outputs": [],
   "source": [
    "saida = re.findall(r'[0-9]{2}',valores)"
   ]
  },
  {
   "cell_type": "code",
   "execution_count": 113,
   "metadata": {},
   "outputs": [
    {
     "name": "stdout",
     "output_type": "stream",
     "text": [
      "['45', '78']\n"
     ]
    }
   ],
   "source": [
    "print(saida)"
   ]
  },
  {
   "cell_type": "code",
   "execution_count": 114,
   "metadata": {
    "collapsed": true
   },
   "outputs": [],
   "source": [
    "def cordial():\n",
    "    nome = input('Qual o seu nome? ')\n",
    "    print('Como você vai hoje, {} ?'.format(nome))"
   ]
  },
  {
   "cell_type": "code",
   "execution_count": 115,
   "metadata": {},
   "outputs": [
    {
     "name": "stdout",
     "output_type": "stream",
     "text": [
      "Qual o seu nome? Renato\n",
      "Como você vai hoje, Renato ?\n"
     ]
    }
   ],
   "source": [
    "cordial()"
   ]
  },
  {
   "cell_type": "code",
   "execution_count": 122,
   "metadata": {
    "collapsed": true
   },
   "outputs": [],
   "source": [
    "def anuncia_tempo(tempo = 'chuvoso', umidade = 'alta'):\n",
    "    print('A umidade hoje está {}'.format(umidade))\n",
    "    print('O tempo hoje está {}'.format(tempo))"
   ]
  },
  {
   "cell_type": "code",
   "execution_count": 125,
   "metadata": {},
   "outputs": [
    {
     "name": "stdout",
     "output_type": "stream",
     "text": [
      "A umidade hoje está baixa\n",
      "O tempo hoje está chuvoso\n"
     ]
    }
   ],
   "source": [
    "anuncia_tempo(umidade = 'baixa')"
   ]
  },
  {
   "cell_type": "code",
   "execution_count": 126,
   "metadata": {},
   "outputs": [
    {
     "name": "stdout",
     "output_type": "stream",
     "text": [
      "A umidade hoje está alta\n",
      "O tempo hoje está chuvoso\n"
     ]
    }
   ],
   "source": [
    "anuncia_tempo()"
   ]
  },
  {
   "cell_type": "code",
   "execution_count": 127,
   "metadata": {
    "collapsed": true
   },
   "outputs": [],
   "source": [
    "def imc(massa=0, altura=0):\n",
    "    if massa == 0:\n",
    "        massa = input('Qual o seu peso? ')\n",
    "    if not str(massa).isdigit():\n",
    "        print('Valor Invalido')\n",
    "        imc()\n",
    "        return\n",
    "    if altura == 0:\n",
    "        altura = input('Qual a sua altura? ')\n",
    "    if not str(altura).isdigit():\n",
    "        print('Valor Invalido')\n",
    "        imc(massa=massa)\n",
    "        return\n",
    "    print('Seu IMC é {}'.format((float(massa)/(float(altura)/100)**2)))"
   ]
  },
  {
   "cell_type": "code",
   "execution_count": 128,
   "metadata": {},
   "outputs": [
    {
     "name": "stdout",
     "output_type": "stream",
     "text": [
      "Qual o seu peso? 73.5\n",
      "Valor Invalido\n",
      "Qual o seu peso? 74\n",
      "Qual a sua altura? 183\n",
      "Seu IMC é 22.096807907073963\n"
     ]
    }
   ],
   "source": [
    "imc()"
   ]
  },
  {
   "cell_type": "code",
   "execution_count": 129,
   "metadata": {
    "collapsed": true
   },
   "outputs": [],
   "source": [
    "def recebe_altura(x):\n",
    "    x = str(x)\n",
    "    print(x)\n",
    "    x = x.replace(',','.')\n",
    "    print(x)"
   ]
  },
  {
   "cell_type": "code",
   "execution_count": 130,
   "metadata": {},
   "outputs": [
    {
     "name": "stdout",
     "output_type": "stream",
     "text": [
      "1.87\n",
      "1.87\n"
     ]
    }
   ],
   "source": [
    "recebe_altura(1.87)"
   ]
  },
  {
   "cell_type": "code",
   "execution_count": 152,
   "metadata": {
    "collapsed": true
   },
   "outputs": [],
   "source": [
    "def acha_posicoes(texto,letra):\n",
    "    posicoes=[]\n",
    "    atual = 0\n",
    "    while not texto.find(letra) == -1:\n",
    "        posicao = atual + texto.find(letra)\n",
    "        #print(posicao)\n",
    "        acrescimo_posicao = texto.find(letra)\n",
    "        #print(acrescimo_posicao)\n",
    "        posicoes.append(posicao)\n",
    "        atual += acrescimo_posicao + 1\n",
    "        #print(atual)\n",
    "        texto = texto[acrescimo_posicao+1:]\n",
    "        #print(texto)\n",
    "    print(posicoes)"
   ]
  },
  {
   "cell_type": "code",
   "execution_count": 153,
   "metadata": {
    "collapsed": true
   },
   "outputs": [],
   "source": [
    "texto = '''\n",
    "Uma vez Flamengo, sempre Flamengo. Flamengo sempre eu hei de ser.\n",
    "É meu maior prazer, vê-lo brilhar, seja na terra, seja no mar.\n",
    "Vencer vencer vencer. Uma vez Flamengo, Flamengo até morrer\n",
    "'''"
   ]
  },
  {
   "cell_type": "code",
   "execution_count": 154,
   "metadata": {},
   "outputs": [
    {
     "name": "stdout",
     "output_type": "stream",
     "text": [
      "9\n",
      "9\n",
      "10\n",
      "lamengo, sempre Flamengo. Flamengo sempre eu hei de ser.\n",
      "É meu maior prazer, vê-lo brilhar, seja na terra, seja no mar.\n",
      "Vencer vencer vencer. Uma vez Flamengo, Flamengo até morrer\n",
      "\n",
      "26\n",
      "16\n",
      "27\n",
      "lamengo. Flamengo sempre eu hei de ser.\n",
      "É meu maior prazer, vê-lo brilhar, seja na terra, seja no mar.\n",
      "Vencer vencer vencer. Uma vez Flamengo, Flamengo até morrer\n",
      "\n",
      "36\n",
      "9\n",
      "37\n",
      "lamengo sempre eu hei de ser.\n",
      "É meu maior prazer, vê-lo brilhar, seja na terra, seja no mar.\n",
      "Vencer vencer vencer. Uma vez Flamengo, Flamengo até morrer\n",
      "\n",
      "160\n",
      "123\n",
      "161\n",
      "lamengo, Flamengo até morrer\n",
      "\n",
      "170\n",
      "9\n",
      "171\n",
      "lamengo até morrer\n",
      "\n",
      "[9, 26, 36, 160, 170]\n"
     ]
    }
   ],
   "source": [
    "acha_posicoes(texto,'Flamengo')"
   ]
  },
  {
   "cell_type": "markdown",
   "metadata": {},
   "source": [
    "### Agora vamos resolver alguns problemas:"
   ]
  },
  {
   "cell_type": "markdown",
   "metadata": {},
   "source": [
    "#### Resolvendo o problema 3 do Project Euler:  \n",
    "https://projecteuler.net/problem=3  \n",
    "\n",
    "The prime factors of 13195 are 5, 7, 13 and 29.  \n",
    "What is the largest prime factor of the number 600851475143 ?"
   ]
  },
  {
   "cell_type": "code",
   "execution_count": 52,
   "metadata": {
    "collapsed": true
   },
   "outputs": [],
   "source": [
    "def maior_fator_primo(n):\n",
    "    #gerando primos até n/2\n",
    "    seq = range(3,int(n/2.)+1)\n",
    "    primos = [2]\n",
    "    for candidato in seq:\n",
    "        E_primo = True\n",
    "        for primo in primos:\n",
    "            if candidato%primo == 0:\n",
    "                E_primo = False\n",
    "        if E_primo:\n",
    "            primos.append(candidato)\n",
    "    fatores = []\n",
    "    for primo in primos:\n",
    "        if n%primo == 0:\n",
    "            fatores.append(primo)\n",
    "    print(fatores)\n",
    "    return fatores"
   ]
  },
  {
   "cell_type": "code",
   "execution_count": 53,
   "metadata": {},
   "outputs": [
    {
     "name": "stdout",
     "output_type": "stream",
     "text": [
      "[5, 7, 13, 29]\n"
     ]
    },
    {
     "data": {
      "text/plain": [
       "[5, 7, 13, 29]"
      ]
     },
     "execution_count": 53,
     "metadata": {},
     "output_type": "execute_result"
    }
   ],
   "source": [
    "maior_fator_primo(13195)"
   ]
  },
  {
   "cell_type": "code",
   "execution_count": 58,
   "metadata": {
    "collapsed": true
   },
   "outputs": [],
   "source": [
    "def maior_fator_primo2(n):\n",
    "    primos = [2]\n",
    "    candidato_a_primo = 3\n",
    "    fatores = []\n",
    "    while candidato_a_primo < (int(n/2.)+1):\n",
    "        E_primo = True\n",
    "        for primo in primos:\n",
    "            if candidato_a_primo%primo == 0:\n",
    "                E_primo = False\n",
    "        if E_primo:\n",
    "            primos.append(candidato_a_primo)\n",
    "            if n%candidato_a_primo == 0:\n",
    "                fatores.append(candidato_a_primo)\n",
    "        candidato_a_primo +=1\n",
    "    print(fatores)\n",
    "    return fatores"
   ]
  },
  {
   "cell_type": "code",
   "execution_count": null,
   "metadata": {
    "collapsed": true
   },
   "outputs": [],
   "source": [
    "maior_fator_primo2(600851475143)"
   ]
  },
  {
   "cell_type": "code",
   "execution_count": 60,
   "metadata": {
    "collapsed": true
   },
   "outputs": [],
   "source": [
    "def is_prime(n):\n",
    "    if n <= 3:\n",
    "        return n >= 2\n",
    "    if n % 2 == 0 or n % 3 == 0:\n",
    "        return False\n",
    "    for i in range(5, int(n ** 0.5) + 1, 6):\n",
    "        if n % i == 0 or n % (i + 2) == 0:\n",
    "            return False\n",
    "    return True"
   ]
  },
  {
   "cell_type": "code",
   "execution_count": 61,
   "metadata": {
    "collapsed": true
   },
   "outputs": [],
   "source": [
    "def maior_fator_primo3(n):\n",
    "    fatores = []\n",
    "    candidato_a_fator = 2\n",
    "    while candidato_a_fator < (int(n/2.)+1):\n",
    "            if is_prime(candidato_a_fator) and n%candidato_a_fator == 0:\n",
    "                fatores.append(candidato_a_fator)\n",
    "            candidato_a_fator +=1\n",
    "    print(fatores)\n",
    "    return fatores"
   ]
  },
  {
   "cell_type": "code",
   "execution_count": 64,
   "metadata": {},
   "outputs": [
    {
     "ename": "KeyboardInterrupt",
     "evalue": "",
     "output_type": "error",
     "traceback": [
      "\u001b[0;31m---------------------------------------------------------------------------\u001b[0m",
      "\u001b[0;31mKeyboardInterrupt\u001b[0m                         Traceback (most recent call last)",
      "\u001b[0;32m<ipython-input-64-1f1aa28371f6>\u001b[0m in \u001b[0;36m<module>\u001b[0;34m()\u001b[0m\n\u001b[0;32m----> 1\u001b[0;31m \u001b[0mmaior_fator_primo3\u001b[0m\u001b[0;34m(\u001b[0m\u001b[0;36m600851475143\u001b[0m\u001b[0;34m)\u001b[0m\u001b[0;34m\u001b[0m\u001b[0m\n\u001b[0m",
      "\u001b[0;32m<ipython-input-61-10bc923465ae>\u001b[0m in \u001b[0;36mmaior_fator_primo3\u001b[0;34m(n)\u001b[0m\n\u001b[1;32m      3\u001b[0m     \u001b[0mcandidato_a_fator\u001b[0m \u001b[0;34m=\u001b[0m \u001b[0;36m2\u001b[0m\u001b[0;34m\u001b[0m\u001b[0m\n\u001b[1;32m      4\u001b[0m     \u001b[0;32mwhile\u001b[0m \u001b[0mcandidato_a_fator\u001b[0m \u001b[0;34m<\u001b[0m \u001b[0;34m(\u001b[0m\u001b[0mint\u001b[0m\u001b[0;34m(\u001b[0m\u001b[0mn\u001b[0m\u001b[0;34m/\u001b[0m\u001b[0;36m2.\u001b[0m\u001b[0;34m)\u001b[0m\u001b[0;34m+\u001b[0m\u001b[0;36m1\u001b[0m\u001b[0;34m)\u001b[0m\u001b[0;34m:\u001b[0m\u001b[0;34m\u001b[0m\u001b[0m\n\u001b[0;32m----> 5\u001b[0;31m             \u001b[0;32mif\u001b[0m \u001b[0mis_prime\u001b[0m\u001b[0;34m(\u001b[0m\u001b[0mcandidato_a_fator\u001b[0m\u001b[0;34m)\u001b[0m \u001b[0;32mand\u001b[0m \u001b[0mn\u001b[0m\u001b[0;34m%\u001b[0m\u001b[0mcandidato_a_fator\u001b[0m \u001b[0;34m==\u001b[0m \u001b[0;36m0\u001b[0m\u001b[0;34m:\u001b[0m\u001b[0;34m\u001b[0m\u001b[0m\n\u001b[0m\u001b[1;32m      6\u001b[0m                 \u001b[0mfatores\u001b[0m\u001b[0;34m.\u001b[0m\u001b[0mappend\u001b[0m\u001b[0;34m(\u001b[0m\u001b[0mcandidato_a_fator\u001b[0m\u001b[0;34m)\u001b[0m\u001b[0;34m\u001b[0m\u001b[0m\n\u001b[1;32m      7\u001b[0m             \u001b[0mcandidato_a_fator\u001b[0m \u001b[0;34m+=\u001b[0m\u001b[0;36m1\u001b[0m\u001b[0;34m\u001b[0m\u001b[0m\n",
      "\u001b[0;32m<ipython-input-60-83a369c5e04d>\u001b[0m in \u001b[0;36mis_prime\u001b[0;34m(n)\u001b[0m\n\u001b[1;32m      5\u001b[0m         \u001b[0;32mreturn\u001b[0m \u001b[0;32mFalse\u001b[0m\u001b[0;34m\u001b[0m\u001b[0m\n\u001b[1;32m      6\u001b[0m     \u001b[0;32mfor\u001b[0m \u001b[0mi\u001b[0m \u001b[0;32min\u001b[0m \u001b[0mrange\u001b[0m\u001b[0;34m(\u001b[0m\u001b[0;36m5\u001b[0m\u001b[0;34m,\u001b[0m \u001b[0mint\u001b[0m\u001b[0;34m(\u001b[0m\u001b[0mn\u001b[0m \u001b[0;34m**\u001b[0m \u001b[0;36m0.5\u001b[0m\u001b[0;34m)\u001b[0m \u001b[0;34m+\u001b[0m \u001b[0;36m1\u001b[0m\u001b[0;34m,\u001b[0m \u001b[0;36m6\u001b[0m\u001b[0;34m)\u001b[0m\u001b[0;34m:\u001b[0m\u001b[0;34m\u001b[0m\u001b[0m\n\u001b[0;32m----> 7\u001b[0;31m         \u001b[0;32mif\u001b[0m \u001b[0mn\u001b[0m \u001b[0;34m%\u001b[0m \u001b[0mi\u001b[0m \u001b[0;34m==\u001b[0m \u001b[0;36m0\u001b[0m \u001b[0;32mor\u001b[0m \u001b[0mn\u001b[0m \u001b[0;34m%\u001b[0m \u001b[0;34m(\u001b[0m\u001b[0mi\u001b[0m \u001b[0;34m+\u001b[0m \u001b[0;36m2\u001b[0m\u001b[0;34m)\u001b[0m \u001b[0;34m==\u001b[0m \u001b[0;36m0\u001b[0m\u001b[0;34m:\u001b[0m\u001b[0;34m\u001b[0m\u001b[0m\n\u001b[0m\u001b[1;32m      8\u001b[0m             \u001b[0;32mreturn\u001b[0m \u001b[0;32mFalse\u001b[0m\u001b[0;34m\u001b[0m\u001b[0m\n\u001b[1;32m      9\u001b[0m     \u001b[0;32mreturn\u001b[0m \u001b[0;32mTrue\u001b[0m\u001b[0;34m\u001b[0m\u001b[0m\n",
      "\u001b[0;31mKeyboardInterrupt\u001b[0m: "
     ]
    }
   ],
   "source": [
    "maior_fator_primo3(600851475143)"
   ]
  },
  {
   "cell_type": "markdown",
   "metadata": {},
   "source": [
    "#### Resolvendo o problema 4 do Project Euler:  \n",
    "https://projecteuler.net/problem=4  \n",
    "\n",
    "\"A palindromic number reads the same both ways. The largest palindrome made from the product of two 2-digit numbers is 9009 = 91 × 99.  \n",
    "Find the largest palindrome made from the product of two 3-digit numbers.\""
   ]
  },
  {
   "cell_type": "markdown",
   "metadata": {},
   "source": [
    "###### Como inverter uma string?\n",
    "Antes vamos entender como inverter uma string"
   ]
  },
  {
   "cell_type": "code",
   "execution_count": 4,
   "metadata": {},
   "outputs": [
    {
     "data": {
      "text/plain": [
       "'Uma str'"
      ]
     },
     "execution_count": 4,
     "metadata": {},
     "output_type": "execute_result"
    }
   ],
   "source": [
    "'Uma string comum'[0:7]"
   ]
  },
  {
   "cell_type": "code",
   "execution_count": 5,
   "metadata": {},
   "outputs": [
    {
     "data": {
      "text/plain": [
       "'mumoc gnirts amU'"
      ]
     },
     "execution_count": 5,
     "metadata": {},
     "output_type": "execute_result"
    }
   ],
   "source": [
    "'Uma string comum'[-1::-1]"
   ]
  },
  {
   "cell_type": "code",
   "execution_count": 3,
   "metadata": {
    "collapsed": true
   },
   "outputs": [],
   "source": [
    "#Gerando a lista de produtos:\n",
    "produtos = set([])\n",
    "for i in range(100,1000):\n",
    "    for j in range(100,1000):\n",
    "        produtos.add(i*j)"
   ]
  },
  {
   "cell_type": "code",
   "execution_count": 6,
   "metadata": {},
   "outputs": [
    {
     "name": "stdout",
     "output_type": "stream",
     "text": [
      "906609\n"
     ]
    }
   ],
   "source": [
    "#Testando se são palíndromos\n",
    "maior_palindromo = 0\n",
    "for numero in produtos:\n",
    "    string_numero = str(numero)\n",
    "    if string_numero == string_numero[-1::-1] and int(string_numero) > maior_palindromo:\n",
    "        maior_palindromo = int(string_numero)\n",
    "print(maior_palindromo)"
   ]
  },
  {
   "cell_type": "markdown",
   "metadata": {},
   "source": [
    "#### Resolvendo o problema 14 do Project Euler:  \n",
    "https://projecteuler.net/problem=14\n",
    "\n",
    "The following iterative sequence is defined for the set of positive integers:\n",
    "\n",
    "n → n/2 (n is even)  \n",
    "n → 3n + 1 (n is odd)\n",
    "\n",
    "Using the rule above and starting with 13, we generate the following sequence:  \n",
    "13 → 40 → 20 → 10 → 5 → 16 → 8 → 4 → 2 → 1\n",
    "\n",
    "It can be seen that this sequence (starting at 13 and finishing at 1) contains 10 terms. Although it has not been proved yet (Collatz Problem), it is thought that all starting numbers finish at 1.\n",
    "\n",
    "Which starting number, under one million, produces the longest chain?\n",
    "\n",
    "NOTE: Once the chain starts the terms are allowed to go above one million.\n"
   ]
  },
  {
   "cell_type": "code",
   "execution_count": null,
   "metadata": {
    "collapsed": true
   },
   "outputs": [],
   "source": [
    "def collatz(num):\n",
    "    if num%2 == 0:\n",
    "        return int(num/2)\n",
    "    else:\n",
    "        return int((3*num)+1)"
   ]
  },
  {
   "cell_type": "code",
   "execution_count": 160,
   "metadata": {},
   "outputs": [
    {
     "name": "stdout",
     "output_type": "stream",
     "text": [
      "a sequencia para 1000000 é [837799, 2513398, 1256699, 3770098, 1885049, 5655148, 2827574, 1413787, 4241362, 2120681, 6362044, 3181022, 1590511, 4771534, 2385767, 7157302, 3578651, 10735954, 5367977, 16103932, 8051966, 4025983, 12077950, 6038975, 18116926, 9058463, 27175390, 13587695, 40763086, 20381543, 61144630, 30572315, 91716946, 45858473, 137575420, 68787710, 34393855, 103181566, 51590783, 154772350, 77386175, 232158526, 116079263, 348237790, 174118895, 522356686, 261178343, 783535030, 391767515, 1175302546, 587651273, 1762953820, 881476910, 440738455, 1322215366, 661107683, 1983323050, 991661525, 2974984576, 1487492288, 743746144, 371873072, 185936536, 92968268, 46484134, 23242067, 69726202, 34863101, 104589304, 52294652, 26147326, 13073663, 39220990, 19610495, 58831486, 29415743, 88247230, 44123615, 132370846, 66185423, 198556270, 99278135, 297834406, 148917203, 446751610, 223375805, 670127416, 335063708, 167531854, 83765927, 251297782, 125648891, 376946674, 188473337, 565420012, 282710006, 141355003, 424065010, 212032505, 636097516, 318048758, 159024379, 477073138, 238536569, 715609708, 357804854, 178902427, 536707282, 268353641, 805060924, 402530462, 201265231, 603795694, 301897847, 905693542, 452846771, 1358540314, 679270157, 2037810472, 1018905236, 509452618, 254726309, 764178928, 382089464, 191044732, 95522366, 47761183, 143283550, 71641775, 214925326, 107462663, 322387990, 161193995, 483581986, 241790993, 725372980, 362686490, 181343245, 544029736, 272014868, 136007434, 68003717, 204011152, 102005576, 51002788, 25501394, 12750697, 38252092, 19126046, 9563023, 28689070, 14344535, 43033606, 21516803, 64550410, 32275205, 96825616, 48412808, 24206404, 12103202, 6051601, 18154804, 9077402, 4538701, 13616104, 6808052, 3404026, 1702013, 5106040, 2553020, 1276510, 638255, 1914766, 957383, 2872150, 1436075, 4308226, 2154113, 6462340, 3231170, 1615585, 4846756, 2423378, 1211689, 3635068, 1817534, 908767, 2726302, 1363151, 4089454, 2044727, 6134182, 3067091, 9201274, 4600637, 13801912, 6900956, 3450478, 1725239, 5175718, 2587859, 7763578, 3881789, 11645368, 5822684, 2911342, 1455671, 4367014, 2183507, 6550522, 3275261, 9825784, 4912892, 2456446, 1228223, 3684670, 1842335, 5527006, 2763503, 8290510, 4145255, 12435766, 6217883, 18653650, 9326825, 27980476, 13990238, 6995119, 20985358, 10492679, 31478038, 15739019, 47217058, 23608529, 70825588, 35412794, 17706397, 53119192, 26559596, 13279798, 6639899, 19919698, 9959849, 29879548, 14939774, 7469887, 22409662, 11204831, 33614494, 16807247, 50421742, 25210871, 75632614, 37816307, 113448922, 56724461, 170173384, 85086692, 42543346, 21271673, 63815020, 31907510, 15953755, 47861266, 23930633, 71791900, 35895950, 17947975, 53843926, 26921963, 80765890, 40382945, 121148836, 60574418, 30287209, 90861628, 45430814, 22715407, 68146222, 34073111, 102219334, 51109667, 153329002, 76664501, 229993504, 114996752, 57498376, 28749188, 14374594, 7187297, 21561892, 10780946, 5390473, 16171420, 8085710, 4042855, 12128566, 6064283, 18192850, 9096425, 27289276, 13644638, 6822319, 20466958, 10233479, 30700438, 15350219, 46050658, 23025329, 69075988, 34537994, 17268997, 51806992, 25903496, 12951748, 6475874, 3237937, 9713812, 4856906, 2428453, 7285360, 3642680, 1821340, 910670, 455335, 1366006, 683003, 2049010, 1024505, 3073516, 1536758, 768379, 2305138, 1152569, 3457708, 1728854, 864427, 2593282, 1296641, 3889924, 1944962, 972481, 2917444, 1458722, 729361, 2188084, 1094042, 547021, 1641064, 820532, 410266, 205133, 615400, 307700, 153850, 76925, 230776, 115388, 57694, 28847, 86542, 43271, 129814, 64907, 194722, 97361, 292084, 146042, 73021, 219064, 109532, 54766, 27383, 82150, 41075, 123226, 61613, 184840, 92420, 46210, 23105, 69316, 34658, 17329, 51988, 25994, 12997, 38992, 19496, 9748, 4874, 2437, 7312, 3656, 1828, 914, 457, 1372, 686, 343, 1030, 515, 1546, 773, 2320, 1160, 580, 290, 145, 436, 218, 109, 328, 164, 82, 41, 124, 62, 31, 94, 47, 142, 71, 214, 107, 322, 161, 484, 242, 121, 364, 182, 91, 274, 137, 412, 206, 103, 310, 155, 466, 233, 700, 350, 175, 526, 263, 790, 395, 1186, 593, 1780, 890, 445, 1336, 668, 334, 167, 502, 251, 754, 377, 1132, 566, 283, 850, 425, 1276, 638, 319, 958, 479, 1438, 719, 2158, 1079, 3238, 1619, 4858, 2429, 7288, 3644, 1822, 911, 2734, 1367, 4102, 2051, 6154, 3077, 9232, 4616, 2308, 1154, 577, 1732, 866, 433, 1300, 650, 325, 976, 488, 244, 122, 61, 184, 92, 46, 23, 70, 35, 106, 53, 160, 80, 40, 20, 10, 5, 16, 8, 4, 2, 1]\n",
      "CPU times: user 2min 4s, sys: 364 ms, total: 2min 4s\n",
      "Wall time: 2min 5s\n"
     ]
    }
   ],
   "source": [
    "%%time\n",
    "\n",
    "n = 1000000\n",
    "tamseqmax = 1\n",
    "for numero in range(2,n+1):\n",
    "    seq = [numero]\n",
    "    proximo = numero\n",
    "    while proximo != 1:\n",
    "        proximo = collatz(proximo)\n",
    "        seq.append(proximo)\n",
    "    #print(seq)\n",
    "    if len(seq) > tamseqmax:\n",
    "        tamseqmax = len(seq)\n",
    "        seqmax = seq\n",
    "        nmax = n\n",
    "print('a sequencia para {} é {}'.format(nmax,seqmax))"
   ]
  },
  {
   "cell_type": "code",
   "execution_count": null,
   "metadata": {
    "collapsed": true
   },
   "outputs": [],
   "source": []
  }
 ],
 "metadata": {
  "kernelspec": {
   "display_name": "Python 3",
   "language": "python",
   "name": "python3"
  },
  "language_info": {
   "codemirror_mode": {
    "name": "ipython",
    "version": 3
   },
   "file_extension": ".py",
   "mimetype": "text/x-python",
   "name": "python",
   "nbconvert_exporter": "python",
   "pygments_lexer": "ipython3",
   "version": "3.5.2+"
  }
 },
 "nbformat": 4,
 "nbformat_minor": 1
}
