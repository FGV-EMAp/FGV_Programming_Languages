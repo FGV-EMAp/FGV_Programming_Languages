{
 "cells": [
  {
   "cell_type": "markdown",
   "metadata": {
    "deletable": true,
    "editable": true
   },
   "source": [
    "FGV - Escola de Matemática Aplicada\n",
    "==\n",
    "Introdução à Programação com a Linguagem Python\n",
    "--"
   ]
  },
  {
   "cell_type": "markdown",
   "metadata": {
    "deletable": true,
    "editable": true
   },
   "source": [
    "#### Tipo Arquivo"
   ]
  },
  {
   "cell_type": "markdown",
   "metadata": {
    "deletable": true,
    "editable": true
   },
   "source": [
    "Abrindo um aquivo .txt: "
   ]
  },
  {
   "cell_type": "code",
<<<<<<< HEAD:Python/Notebooks/Aula_5_Tipo_Arquivo.ipynb
   "execution_count": 2,
   "metadata": {},
=======
   "execution_count": 3,
   "metadata": {
    "collapsed": false,
    "deletable": true,
    "editable": true
   },
   "outputs": [
    {
     "name": "stdout",
     "output_type": "stream",
     "text": [
      "/home/rsouza/FGV_Programming_Languages/Python/Notebooks\r\n"
     ]
    }
   ],
   "source": [
    "!pwd"
   ]
  },
  {
   "cell_type": "code",
   "execution_count": 7,
   "metadata": {
    "collapsed": true,
    "deletable": true,
    "editable": true
   },
>>>>>>> upstream/master:Python/Notebooks/Aula_6_Tipo_Arquivo.ipynb
   "outputs": [],
   "source": [
    "texto = 'Minha string'\n",
    "f = open('meu_arquivo.txt', mode='w', encoding='utf-8')"
   ]
  },
  {
   "cell_type": "code",
   "execution_count": 17,
   "metadata": {
    "collapsed": false,
    "deletable": true,
    "editable": true
   },
   "outputs": [
    {
     "data": {
      "text/plain": [
       "<_io.TextIOWrapper name='meu_arquivo.txt' mode='w' encoding='utf-8'>"
      ]
     },
     "execution_count": 17,
     "metadata": {},
     "output_type": "execute_result"
    }
   ],
   "source": [
    "f"
   ]
  },
  {
   "cell_type": "markdown",
   "metadata": {
    "deletable": true,
    "editable": true
   },
   "source": [
    "'w' indica que o arquino está no modo writing, isto é, você poderá editar o texto."
   ]
  },
  {
   "cell_type": "code",
<<<<<<< HEAD:Python/Notebooks/Aula_5_Tipo_Arquivo.ipynb
   "execution_count": 3,
   "metadata": {
    "scrolled": true
=======
   "execution_count": 9,
   "metadata": {
    "collapsed": false,
    "deletable": true,
    "editable": true
   },
   "outputs": [
    {
     "data": {
      "text/plain": [
       "4"
      ]
     },
     "execution_count": 9,
     "metadata": {},
     "output_type": "execute_result"
    }
   ],
   "source": [
    "f.write('Olá\\n')"
   ]
  },
  {
   "cell_type": "code",
   "execution_count": 10,
   "metadata": {
    "collapsed": false,
    "deletable": true,
    "editable": true
>>>>>>> upstream/master:Python/Notebooks/Aula_6_Tipo_Arquivo.ipynb
   },
   "outputs": [
    {
     "data": {
      "text/plain": [
       "27"
      ]
     },
<<<<<<< HEAD:Python/Notebooks/Aula_5_Tipo_Arquivo.ipynb
     "execution_count": 3,
=======
     "execution_count": 10,
>>>>>>> upstream/master:Python/Notebooks/Aula_6_Tipo_Arquivo.ipynb
     "metadata": {},
     "output_type": "execute_result"
    }
   ],
   "source": [
    "f.write('olá, como vai\\n')\n",
    "f.write('\\n')\n",
    "f.write('Então tchau!\\n')\n",
    "f.write('\\n')\n",
    "f.write('um texto\\tdepois de um <tab>')"
   ]
  },
  {
   "cell_type": "markdown",
   "metadata": {
    "deletable": true,
    "editable": true
   },
   "source": [
    "Após criar o arquivo e realizar os procedimentos de escrita ou leitura, devemos fechar o arquivo."
   ]
  },
  {
   "cell_type": "code",
<<<<<<< HEAD:Python/Notebooks/Aula_5_Tipo_Arquivo.ipynb
   "execution_count": 5,
   "metadata": {},
=======
   "execution_count": 11,
   "metadata": {
    "collapsed": false,
    "deletable": true,
    "editable": true
   },
>>>>>>> upstream/master:Python/Notebooks/Aula_6_Tipo_Arquivo.ipynb
   "outputs": [
    {
     "data": {
      "text/plain": [
       "False"
      ]
     },
<<<<<<< HEAD:Python/Notebooks/Aula_5_Tipo_Arquivo.ipynb
     "execution_count": 5,
=======
     "execution_count": 11,
>>>>>>> upstream/master:Python/Notebooks/Aula_6_Tipo_Arquivo.ipynb
     "metadata": {},
     "output_type": "execute_result"
    }
   ],
   "source": [
    "f.closed"
   ]
  },
  {
   "cell_type": "code",
<<<<<<< HEAD:Python/Notebooks/Aula_5_Tipo_Arquivo.ipynb
   "execution_count": 6,
   "metadata": {},
=======
   "execution_count": 12,
   "metadata": {
    "collapsed": true,
    "deletable": true,
    "editable": true
   },
>>>>>>> upstream/master:Python/Notebooks/Aula_6_Tipo_Arquivo.ipynb
   "outputs": [],
   "source": [
    "f.close()"
   ]
  },
  {
   "cell_type": "code",
<<<<<<< HEAD:Python/Notebooks/Aula_5_Tipo_Arquivo.ipynb
   "execution_count": 7,
   "metadata": {},
=======
   "execution_count": 13,
   "metadata": {
    "collapsed": false,
    "deletable": true,
    "editable": true
   },
>>>>>>> upstream/master:Python/Notebooks/Aula_6_Tipo_Arquivo.ipynb
   "outputs": [
    {
     "data": {
      "text/plain": [
       "True"
      ]
     },
<<<<<<< HEAD:Python/Notebooks/Aula_5_Tipo_Arquivo.ipynb
     "execution_count": 7,
=======
     "execution_count": 13,
>>>>>>> upstream/master:Python/Notebooks/Aula_6_Tipo_Arquivo.ipynb
     "metadata": {},
     "output_type": "execute_result"
    }
   ],
   "source": [
    "f.closed"
   ]
  },
  {
   "cell_type": "code",
<<<<<<< HEAD:Python/Notebooks/Aula_5_Tipo_Arquivo.ipynb
   "execution_count": 4,
   "metadata": {},
   "outputs": [
    {
     "data": {
      "text/plain": [
       "13"
      ]
     },
     "execution_count": 4,
     "metadata": {},
     "output_type": "execute_result"
=======
   "execution_count": 14,
   "metadata": {
    "collapsed": false,
    "deletable": true,
    "editable": true
   },
   "outputs": [
    {
     "ename": "ValueError",
     "evalue": "I/O operation on closed file.",
     "output_type": "error",
     "traceback": [
      "\u001b[0;31m---------------------------------------------------------------------------\u001b[0m",
      "\u001b[0;31mValueError\u001b[0m                                Traceback (most recent call last)",
      "\u001b[0;32m<ipython-input-14-8e887759adcd>\u001b[0m in \u001b[0;36m<module>\u001b[0;34m()\u001b[0m\n\u001b[0;32m----> 1\u001b[0;31m \u001b[0mf\u001b[0m\u001b[0;34m.\u001b[0m\u001b[0mwrite\u001b[0m\u001b[0;34m(\u001b[0m\u001b[0;34m'Então tchau!\\n'\u001b[0m\u001b[0;34m)\u001b[0m\u001b[0;34m\u001b[0m\u001b[0m\n\u001b[0m",
      "\u001b[0;31mValueError\u001b[0m: I/O operation on closed file."
     ]
>>>>>>> upstream/master:Python/Notebooks/Aula_6_Tipo_Arquivo.ipynb
    }
   ],
   "source": [
    "f.write('Então tchau!\\n')"
   ]
  },
  {
   "cell_type": "code",
<<<<<<< HEAD:Python/Notebooks/Aula_5_Tipo_Arquivo.ipynb
   "execution_count": 9,
   "metadata": {},
=======
   "execution_count": 57,
   "metadata": {
    "collapsed": true,
    "deletable": true,
    "editable": true
   },
>>>>>>> upstream/master:Python/Notebooks/Aula_6_Tipo_Arquivo.ipynb
   "outputs": [],
   "source": [
    "g = open('meu_arquivo.txt', mode='r', encoding='utf-8')"
   ]
  },
  {
   "cell_type": "code",
   "execution_count": 58,
   "metadata": {
    "collapsed": false,
    "deletable": true,
    "editable": true
   },
   "outputs": [
    {
     "data": {
      "text/plain": [
       "<_io.TextIOWrapper name='meu_arquivo.txt' mode='r' encoding='utf-8'>"
      ]
     },
     "execution_count": 58,
     "metadata": {},
     "output_type": "execute_result"
    }
   ],
   "source": [
    "g"
   ]
  },
  {
   "cell_type": "markdown",
   "metadata": {
    "deletable": true,
    "editable": true
   },
   "source": [
    "'r' indica que o arquivo está sendo aberto no modo leitura, não será permitido realizar modificações no texto."
   ]
  },
  {
   "cell_type": "markdown",
   "metadata": {
    "deletable": true,
    "editable": true
   },
   "source": [
    "O comando readlines() retornará o texto todo em uma lista de strings, sendo que cada string é uma linha do texto."
   ]
  },
  {
   "cell_type": "code",
<<<<<<< HEAD:Python/Notebooks/Aula_5_Tipo_Arquivo.ipynb
   "execution_count": 10,
   "metadata": {},
=======
   "execution_count": 59,
   "metadata": {
    "collapsed": false,
    "deletable": true,
    "editable": true
   },
>>>>>>> upstream/master:Python/Notebooks/Aula_6_Tipo_Arquivo.ipynb
   "outputs": [
    {
     "name": "stdout",
     "output_type": "stream",
     "text": [
<<<<<<< HEAD:Python/Notebooks/Aula_5_Tipo_Arquivo.ipynb
      "['Olá\\n', 'olá, como vai\\n', '\\n', 'Então tchau!\\n', '\\n', 'um texto\\tdepois de um <tab>Então tchau!\\n']\n"
=======
      "['olá, como vai\\n', '\\n', 'Então tchau!\\n', '\\n', 'um texto\\tdepois de um <tab>Olá\\n', 'olá, como vai\\n', '\\n', 'Então tchau!\\n', '\\n', 'um texto\\tdepois de um <tab>']\n"
>>>>>>> upstream/master:Python/Notebooks/Aula_6_Tipo_Arquivo.ipynb
     ]
    }
   ],
   "source": [
    "texto_em_uma_lista = g.readlines()\n",
    "print(texto_em_uma_lista)"
   ]
  },
  {
   "cell_type": "code",
   "execution_count": 11,
   "metadata": {
    "collapsed": true,
    "deletable": true,
    "editable": true
   },
   "outputs": [],
   "source": [
    "g = open('meu_arquivo.txt', mode='r', encoding='utf-8')"
   ]
  },
  {
   "cell_type": "markdown",
   "metadata": {
    "deletable": true,
    "editable": true
   },
   "source": [
    "O comando readline() retornará sempre a primeira linha do texto. Conforme ele for executado mais vezes, retornará as linhas seguintes."
   ]
  },
  {
   "cell_type": "code",
<<<<<<< HEAD:Python/Notebooks/Aula_5_Tipo_Arquivo.ipynb
   "execution_count": 13,
   "metadata": {},
=======
   "execution_count": 64,
   "metadata": {
    "collapsed": false,
    "deletable": true,
    "editable": true
   },
>>>>>>> upstream/master:Python/Notebooks/Aula_6_Tipo_Arquivo.ipynb
   "outputs": [
    {
     "name": "stdout",
     "output_type": "stream",
     "text": [
      "olá, como vai\n",
      "\n"
     ]
    }
   ],
   "source": [
    "g.seek(0)\n",
    "primeira_linha = g.readline()\n",
    "print(primeira_linha)"
   ]
  },
  {
   "cell_type": "code",
<<<<<<< HEAD:Python/Notebooks/Aula_5_Tipo_Arquivo.ipynb
   "execution_count": 14,
   "metadata": {},
=======
   "execution_count": 65,
   "metadata": {
    "collapsed": false,
    "deletable": true,
    "editable": true
   },
>>>>>>> upstream/master:Python/Notebooks/Aula_6_Tipo_Arquivo.ipynb
   "outputs": [
    {
     "name": "stdout",
     "output_type": "stream",
     "text": [
      "\n",
      "\n"
     ]
    }
   ],
   "source": [
    "segunda = g.readline()\n",
    "print(segunda)"
   ]
  },
  {
   "cell_type": "code",
<<<<<<< HEAD:Python/Notebooks/Aula_5_Tipo_Arquivo.ipynb
   "execution_count": 15,
   "metadata": {},
=======
   "execution_count": 66,
   "metadata": {
    "collapsed": false,
    "deletable": true,
    "editable": true
   },
>>>>>>> upstream/master:Python/Notebooks/Aula_6_Tipo_Arquivo.ipynb
   "outputs": [
    {
     "name": "stdout",
     "output_type": "stream",
     "text": [
      "Então tchau!\n",
      "\n"
     ]
    }
   ],
   "source": [
    "terceira = g.readline()\n",
    "print(terceira)"
   ]
  },
  {
   "cell_type": "code",
<<<<<<< HEAD:Python/Notebooks/Aula_5_Tipo_Arquivo.ipynb
   "execution_count": 48,
   "metadata": {},
=======
   "execution_count": 67,
   "metadata": {
    "collapsed": false,
    "deletable": true,
    "editable": true
   },
>>>>>>> upstream/master:Python/Notebooks/Aula_6_Tipo_Arquivo.ipynb
   "outputs": [
    {
     "data": {
      "text/plain": [
       "0"
      ]
     },
     "execution_count": 67,
     "metadata": {},
     "output_type": "execute_result"
    }
   ],
   "source": [
    "g.seek(0)"
   ]
  },
  {
   "cell_type": "code",
<<<<<<< HEAD:Python/Notebooks/Aula_5_Tipo_Arquivo.ipynb
   "execution_count": 49,
   "metadata": {},
=======
   "execution_count": 68,
   "metadata": {
    "collapsed": false,
    "deletable": true,
    "editable": true
   },
>>>>>>> upstream/master:Python/Notebooks/Aula_6_Tipo_Arquivo.ipynb
   "outputs": [
    {
     "data": {
      "text/plain": [
       "'olá, como vai\\n'"
      ]
     },
     "execution_count": 68,
     "metadata": {},
     "output_type": "execute_result"
    }
   ],
   "source": [
    "primeira_linha = g.readline()\n",
    "primeira_linha"
   ]
  },
  {
   "cell_type": "code",
<<<<<<< HEAD:Python/Notebooks/Aula_5_Tipo_Arquivo.ipynb
   "execution_count": 50,
   "metadata": {},
=======
   "execution_count": 69,
   "metadata": {
    "collapsed": true,
    "deletable": true,
    "editable": true
   },
>>>>>>> upstream/master:Python/Notebooks/Aula_6_Tipo_Arquivo.ipynb
   "outputs": [],
   "source": [
    "segunda_linha = g.readline()"
   ]
  },
  {
   "cell_type": "code",
<<<<<<< HEAD:Python/Notebooks/Aula_5_Tipo_Arquivo.ipynb
   "execution_count": 51,
   "metadata": {},
=======
   "execution_count": 70,
   "metadata": {
    "collapsed": false,
    "deletable": true,
    "editable": true
   },
>>>>>>> upstream/master:Python/Notebooks/Aula_6_Tipo_Arquivo.ipynb
   "outputs": [
    {
     "data": {
      "text/plain": [
       "'\\n'"
      ]
     },
     "execution_count": 70,
     "metadata": {},
     "output_type": "execute_result"
    }
   ],
   "source": [
    "segunda_linha"
   ]
  },
  {
   "cell_type": "code",
<<<<<<< HEAD:Python/Notebooks/Aula_5_Tipo_Arquivo.ipynb
   "execution_count": 52,
   "metadata": {},
=======
   "execution_count": 71,
   "metadata": {
    "collapsed": true,
    "deletable": true,
    "editable": true
   },
>>>>>>> upstream/master:Python/Notebooks/Aula_6_Tipo_Arquivo.ipynb
   "outputs": [],
   "source": [
    "g.seek(0)\n",
    "todas_as_linhas = g.read()"
   ]
  },
  {
   "cell_type": "markdown",
   "metadata": {
    "deletable": true,
    "editable": true
   },
   "source": [
    "Com o comando read() todo "
   ]
  },
  {
   "cell_type": "code",
<<<<<<< HEAD:Python/Notebooks/Aula_5_Tipo_Arquivo.ipynb
   "execution_count": 53,
   "metadata": {},
=======
   "execution_count": 72,
   "metadata": {
    "collapsed": false,
    "deletable": true,
    "editable": true
   },
>>>>>>> upstream/master:Python/Notebooks/Aula_6_Tipo_Arquivo.ipynb
   "outputs": [
    {
     "name": "stdout",
     "output_type": "stream",
     "text": [
      "olá, como vai\n",
      "\n",
      "Então tchau!\n",
      "\n",
      "um texto\tdepois de um <tab>Olá\n",
      "olá, como vai\n",
      "\n",
      "Então tchau!\n",
      "\n",
      "um texto\tdepois de um <tab>\n"
     ]
    }
   ],
   "source": [
    "print(todas_as_linhas)"
   ]
  },
  {
   "cell_type": "code",
<<<<<<< HEAD:Python/Notebooks/Aula_5_Tipo_Arquivo.ipynb
   "execution_count": 20,
   "metadata": {},
=======
   "execution_count": 73,
   "metadata": {
    "collapsed": true,
    "deletable": true,
    "editable": true
   },
>>>>>>> upstream/master:Python/Notebooks/Aula_6_Tipo_Arquivo.ipynb
   "outputs": [],
   "source": [
    "g.close()"
   ]
  },
  {
   "cell_type": "markdown",
   "metadata": {
    "deletable": true,
    "editable": true
   },
   "source": [
    "Agora vejamos outra forma de abrir um arquivo:"
   ]
  },
  {
   "cell_type": "code",
<<<<<<< HEAD:Python/Notebooks/Aula_5_Tipo_Arquivo.ipynb
   "execution_count": 39,
   "metadata": {},
=======
   "execution_count": 74,
   "metadata": {
    "collapsed": true,
    "deletable": true,
    "editable": true
   },
>>>>>>> upstream/master:Python/Notebooks/Aula_6_Tipo_Arquivo.ipynb
   "outputs": [],
   "source": [
    "with open('novo_arquivo.txt', mode='w', encoding='utf-8') as f:\n",
    "    f.write('Peso\\t\\t72\\n')\n",
    "    f.write('Altura\\t\\t183\\n')\n",
    "    f.write('Idade\\t\\t44\\n')\n",
    "    f.write('Genero\\t\\tMasculino\\n')\n",
    "    f.write('\\n')"
   ]
  },
  {
   "cell_type": "code",
<<<<<<< HEAD:Python/Notebooks/Aula_5_Tipo_Arquivo.ipynb
   "execution_count": 42,
   "metadata": {},
=======
   "execution_count": 75,
   "metadata": {
    "collapsed": false,
    "deletable": true,
    "editable": true
   },
>>>>>>> upstream/master:Python/Notebooks/Aula_6_Tipo_Arquivo.ipynb
   "outputs": [
    {
     "name": "stdout",
     "output_type": "stream",
     "text": [
      "['Peso\\t\\t72\\n', 'Altura\\t\\t183\\n', 'Idade\\t\\t44\\n', 'Genero\\t\\tMasculino\\n', '\\n']\n",
      "Peso\t\t72\n",
      "\n",
      "Altura\t\t183\n",
      "\n",
      "Idade\t\t44\n",
      "\n",
      "Genero\t\tMasculino\n",
      "\n",
      "\n",
      "\n"
     ]
    }
   ],
   "source": [
    "with open('novo_arquivo.txt', mode='r', encoding='utf-8') as f:\n",
    "    linha = f.readlines()\n",
    "    #linha = f.read()\n",
    "    \n",
    "print(linha)\n",
    "\n",
    "for elemento in linha:\n",
    "    print(elemento)"
   ]
  },
  {
   "cell_type": "code",
<<<<<<< HEAD:Python/Notebooks/Aula_5_Tipo_Arquivo.ipynb
   "execution_count": 47,
   "metadata": {},
=======
   "execution_count": 88,
   "metadata": {
    "collapsed": true,
    "deletable": true,
    "editable": true
   },
>>>>>>> upstream/master:Python/Notebooks/Aula_6_Tipo_Arquivo.ipynb
   "outputs": [],
   "source": [
    "with open('../Dados/dados.csv', mode='r', encoding='utf-8') as f:\n",
    "    f.readline()\n",
    "    f.readline()\n",
    "    f.readline()\n",
    "    f.readline()\n",
    "    lista_texto = f.readline()\n",
    "    lista_texto2 = f.readline()"
   ]
  },
  {
   "cell_type": "code",
<<<<<<< HEAD:Python/Notebooks/Aula_5_Tipo_Arquivo.ipynb
   "execution_count": 48,
   "metadata": {},
=======
   "execution_count": 89,
   "metadata": {
    "collapsed": false,
    "deletable": true,
    "editable": true
   },
>>>>>>> upstream/master:Python/Notebooks/Aula_6_Tipo_Arquivo.ipynb
   "outputs": [
    {
     "data": {
      "text/plain": [
       "'\"Country Name\",\"Country Code\",\"Indicator Name\",\"Indicator Code\",\"1960\",\"1961\",\"1962\",\"1963\",\"1964\",\"1965\",\"1966\",\"1967\",\"1968\",\"1969\",\"1970\",\"1971\",\"1972\",\"1973\",\"1974\",\"1975\",\"1976\",\"1977\",\"1978\",\"1979\",\"1980\",\"1981\",\"1982\",\"1983\",\"1984\",\"1985\",\"1986\",\"1987\",\"1988\",\"1989\",\"1990\",\"1991\",\"1992\",\"1993\",\"1994\",\"1995\",\"1996\",\"1997\",\"1998\",\"1999\",\"2000\",\"2001\",\"2002\",\"2003\",\"2004\",\"2005\",\"2006\",\"2007\",\"2008\",\"2009\",\"2010\",\"2011\",\"2012\",\"2013\",\"2014\",\"2015\",\\n'"
      ]
     },
     "execution_count": 89,
     "metadata": {},
     "output_type": "execute_result"
    }
   ],
   "source": [
    "lista_texto"
   ]
  },
  {
   "cell_type": "code",
   "execution_count": 90,
   "metadata": {
<<<<<<< HEAD:Python/Notebooks/Aula_5_Tipo_Arquivo.ipynb
=======
    "collapsed": false,
    "deletable": true,
    "editable": true
   },
   "outputs": [
    {
     "data": {
      "text/plain": [
       "'\"Brazil\",\"BRA\",\"Agricultural machinery, tractors\",\"AG.AGR.TRAC.NO\",\"\",\"72000\",\"82000\",\"93000\",\"103000\",\"114000\",\"124000\",\"134500\",\"145000\",\"155400\",\"165870\",\"183500\",\"201000\",\"218500\",\"236000\",\"323113\",\"350000\",\"370000\",\"428000\",\"485000\",\"545205\",\"569000\",\"593000\",\"617000\",\"641000\",\"666309\",\"678803\",\"691297\",\"703790\",\"716285\",\"728779\",\"741272\",\"753766\",\"766260\",\"778754\",\"791248\",\"803742\",\"802173\",\"800604\",\"799035\",\"797466\",\"795898\",\"794329\",\"792760\",\"791191\",\"789622\",\"788053\",\"\",\"\",\"\",\"\",\"\",\"\",\"\",\"\",\"\",\\n'"
      ]
     },
     "execution_count": 90,
     "metadata": {},
     "output_type": "execute_result"
    }
   ],
   "source": [
    "lista_texto2"
   ]
  },
  {
   "cell_type": "code",
   "execution_count": 50,
   "metadata": {
    "collapsed": true,
    "deletable": true,
    "editable": true,
>>>>>>> upstream/master:Python/Notebooks/Aula_6_Tipo_Arquivo.ipynb
    "scrolled": true
   },
   "outputs": [],
   "source": [
    "for indice in range(len(lista_texto)):\n",
    "    lista_texto[indice] = lista_texto[indice].split(',')"
   ]
  },
  {
   "cell_type": "code",
   "execution_count": 52,
<<<<<<< HEAD:Python/Notebooks/Aula_5_Tipo_Arquivo.ipynb
   "metadata": {},
=======
   "metadata": {
    "collapsed": false,
    "deletable": true,
    "editable": true
   },
>>>>>>> upstream/master:Python/Notebooks/Aula_6_Tipo_Arquivo.ipynb
   "outputs": [
    {
     "data": {
      "text/plain": [
       "['\"Brazil\"',\n",
       " '\"BRA\"',\n",
       " '\"Agricultural machinery',\n",
       " ' tractors\"',\n",
       " '\"AG.AGR.TRAC.NO\"',\n",
       " '\"\"',\n",
       " '\"72000\"',\n",
       " '\"82000\"',\n",
       " '\"93000\"',\n",
       " '\"103000\"',\n",
       " '\"114000\"',\n",
       " '\"124000\"',\n",
       " '\"134500\"',\n",
       " '\"145000\"',\n",
       " '\"155400\"',\n",
       " '\"165870\"',\n",
       " '\"183500\"',\n",
       " '\"201000\"',\n",
       " '\"218500\"',\n",
       " '\"236000\"',\n",
       " '\"323113\"',\n",
       " '\"350000\"',\n",
       " '\"370000\"',\n",
       " '\"428000\"',\n",
       " '\"485000\"',\n",
       " '\"545205\"',\n",
       " '\"569000\"',\n",
       " '\"593000\"',\n",
       " '\"617000\"',\n",
       " '\"641000\"',\n",
       " '\"666309\"',\n",
       " '\"678803\"',\n",
       " '\"691297\"',\n",
       " '\"703790\"',\n",
       " '\"716285\"',\n",
       " '\"728779\"',\n",
       " '\"741272\"',\n",
       " '\"753766\"',\n",
       " '\"766260\"',\n",
       " '\"778754\"',\n",
       " '\"791248\"',\n",
       " '\"803742\"',\n",
       " '\"802173\"',\n",
       " '\"800604\"',\n",
       " '\"799035\"',\n",
       " '\"797466\"',\n",
       " '\"795898\"',\n",
       " '\"794329\"',\n",
       " '\"792760\"',\n",
       " '\"791191\"',\n",
       " '\"789622\"',\n",
       " '\"788053\"',\n",
       " '\"\"',\n",
       " '\"\"',\n",
       " '\"\"',\n",
       " '\"\"',\n",
       " '\"\"',\n",
       " '\"\"',\n",
       " '\"\"',\n",
       " '\"\"',\n",
       " '\"\"',\n",
       " '\\n']"
      ]
     },
     "execution_count": 52,
     "metadata": {},
     "output_type": "execute_result"
    }
   ],
   "source": [
    "lista_texto[1]"
   ]
  },
  {
   "cell_type": "code",
   "execution_count": 53,
<<<<<<< HEAD:Python/Notebooks/Aula_5_Tipo_Arquivo.ipynb
   "metadata": {},
=======
   "metadata": {
    "collapsed": true,
    "deletable": true,
    "editable": true
   },
>>>>>>> upstream/master:Python/Notebooks/Aula_6_Tipo_Arquivo.ipynb
   "outputs": [],
   "source": [
    "idx = lista_texto[0].index('\"2005\"')"
   ]
  },
  {
   "cell_type": "code",
   "execution_count": 54,
<<<<<<< HEAD:Python/Notebooks/Aula_5_Tipo_Arquivo.ipynb
   "metadata": {},
=======
   "metadata": {
    "collapsed": false,
    "deletable": true,
    "editable": true
   },
>>>>>>> upstream/master:Python/Notebooks/Aula_6_Tipo_Arquivo.ipynb
   "outputs": [
    {
     "data": {
      "text/plain": [
       "49"
      ]
     },
     "execution_count": 54,
     "metadata": {},
     "output_type": "execute_result"
    }
   ],
   "source": [
    "idx"
   ]
  },
  {
   "cell_type": "code",
   "execution_count": 55,
<<<<<<< HEAD:Python/Notebooks/Aula_5_Tipo_Arquivo.ipynb
   "metadata": {},
=======
   "metadata": {
    "collapsed": false,
    "deletable": true,
    "editable": true
   },
>>>>>>> upstream/master:Python/Notebooks/Aula_6_Tipo_Arquivo.ipynb
   "outputs": [
    {
     "name": "stdout",
     "output_type": "stream",
     "text": [
      "O valor do indicador Indicator Name é 2005\n",
      "O valor do indicador Agricultural machinery é 791191\n",
      "O valor do indicador Fertilizer consumption (% of fertilizer production) é 269.937681288949\n",
      "O valor do indicador Fertilizer consumption (kilograms per hectare of arable land) é 120.100351374409\n",
      "O valor do indicador Agricultural land (sq. km) é 2724326\n",
      "O valor do indicador Agricultural land (% of land area) é 32.5948835506464\n",
      "O valor do indicador Arable land (hectares) é 69157000\n",
      "O valor do indicador Arable land (hectares per person) é 0.366921046583167\n",
      "O valor do indicador Arable land (% of land area) é 8.27420933365558\n",
      "O valor do indicador Land under cereal production (hectares) é 19312005\n"
     ]
    }
   ],
   "source": [
    "for linha in lista_texto:\n",
    "    print('O valor do indicador {} é {}'.format(linha[2].strip('\"'), linha[idx].strip('\"')))"
   ]
  },
  {
   "cell_type": "code",
<<<<<<< HEAD:Python/Notebooks/Aula_5_Tipo_Arquivo.ipynb
   "execution_count": 56,
   "metadata": {},
=======
   "execution_count": 125,
   "metadata": {
    "collapsed": true,
    "deletable": true,
    "editable": true
   },
>>>>>>> upstream/master:Python/Notebooks/Aula_6_Tipo_Arquivo.ipynb
   "outputs": [],
   "source": [
    "with open('../Dados/texto_python.txt', mode='r', encoding='utf-8') as f:\n",
    "    novo = f.read()"
   ]
  },
  {
   "cell_type": "code",
<<<<<<< HEAD:Python/Notebooks/Aula_5_Tipo_Arquivo.ipynb
   "execution_count": 63,
   "metadata": {},
=======
   "execution_count": 126,
   "metadata": {
    "collapsed": false,
    "deletable": true,
    "editable": true
   },
   "outputs": [
    {
     "data": {
      "text/plain": [
       "'\\n  /Python/\\n\\nOrigem: Wikipédia, a enciclopédia livre.\\nIr para: navegação <#mw-head>, pesquisa <#p-search>\\nDisambig grey.svg *Nota:* Para outros significados, veja Python\\n(desambiguação) </wiki/Python_(desambigua%C3%A7%C3%A3o)>.\\nPython\\nPython logo and wordmark.svg </wiki/Ficheiro:Python_logo_and_wordmark.svg>\\nParadigma </wiki/Paradigma_de_programa%C3%A7%C3%A3o> \\tMultiparadigma\\n</wiki/Multiparadigma>:\\nOrientação a objetos </wiki/Orienta%C3%A7%C3%A3o_a_objetos>\\nProgramação imperativa </wiki/Programa%C3%A7%C3%A3o_imperativa>\\nProgramação funcional </wiki/Programa%C3%A7%C3%A3o_funcional>\\nSurgido em \\t1991 </wiki/1991>^[1] <#cite_note-svn-hist.C3.B3ria-1>\\nÚltima versão </wiki/Vers%C3%A3o> \\t3.4.1 (18 de maio de 2014^[2]\\n<#cite_note-2> )\\nCriado por \\tGuido van Rossum </wiki/Guido_van_Rossum>^[1]\\n<#cite_note-svn-hist.C3.B3ria-1>\\nEstilo de tipagem </wiki/Tipo_de_dado>: \\tDinâmica, forte\\nDialetos: \\tCPython </wiki/CPython>, IronPython </wiki/IronPython>,\\nJython </wiki/Jython>, PyPy </w/index.php?title'"
      ]
     },
     "execution_count": 126,
     "metadata": {},
     "output_type": "execute_result"
    }
   ],
   "source": [
    "novo[0:1000]"
   ]
  },
  {
   "cell_type": "code",
   "execution_count": 127,
   "metadata": {
    "collapsed": false,
    "deletable": true,
    "editable": true
   },
   "outputs": [
    {
     "data": {
      "text/plain": [
       "'    Python   Origem  Wikipédia  a enciclopédia livre  Ir para  navegação   mw head   pesquisa   p search  Disambig grey svg  Nota   Para outros significados  veja Python  desambiguação    wiki Python  desambigua C3 A7 C3 A3o    Python Python logo and wordmark svg   wiki Ficheiro Python logo and wordmark svg  Paradigma   wiki Paradigma de programa C3 A7 C3 A3o   Multiparadigma   wiki Multiparadigma   Orientação a objetos   wiki Orienta C3 A7 C3 A3o a objetos  Programação imperativa   wiki Programa C3 A7 C3 A3o imperativa  Programação funcional   wiki Programa C3 A7 C3 A3o funcional  Surgido em  1991   wiki 1991   1    cite note svn hist C3 B3ria 1   ltima versão   wiki Vers C3 A3o   3 4 1  18 de maio de 2014  2    cite note 2    Criado por  Guido van Rossum   wiki Guido van Rossum   1    cite note svn hist C3 B3ria 1  Estilo de tipagem   wiki Tipo de dado    Dinâmica  forte Dialetos   CPython   wiki CPython   IronPython   wiki IronPython   Jython   wiki Jython   PyPy   w index php title'"
      ]
     },
     "execution_count": 127,
     "metadata": {},
     "output_type": "execute_result"
    }
   ],
   "source": [
    "import re\n",
    "novo = re.sub(r'[^A-Za-z0-9áéíó´úàâêôãõçü]',' ',novo)\n",
    "novo[0:1000]"
   ]
  },
  {
   "cell_type": "code",
   "execution_count": 128,
   "metadata": {
    "collapsed": true,
    "deletable": true,
    "editable": true
   },
>>>>>>> upstream/master:Python/Notebooks/Aula_6_Tipo_Arquivo.ipynb
   "outputs": [],
   "source": [
    "def freqdist(texto):\n",
    "    dic = {}\n",
    "    lista = texto.split()\n",
    "    for token in lista:\n",
    "        if token.lower() not in dic:\n",
    "            dic[token.lower()] = 1\n",
    "        else:\n",
    "            dic[token.lower()] = dic[token.lower()] + 1\n",
    "    return dic"
   ]
  },
  {
   "cell_type": "code",
<<<<<<< HEAD:Python/Notebooks/Aula_5_Tipo_Arquivo.ipynb
   "execution_count": 76,
   "metadata": {},
=======
   "execution_count": 129,
   "metadata": {
    "collapsed": true,
    "deletable": true,
    "editable": true
   },
>>>>>>> upstream/master:Python/Notebooks/Aula_6_Tipo_Arquivo.ipynb
   "outputs": [],
   "source": [
    "dic = freqdist(novo)"
   ]
  },
  {
   "cell_type": "code",
<<<<<<< HEAD:Python/Notebooks/Aula_5_Tipo_Arquivo.ipynb
   "execution_count": 77,
   "metadata": {},
=======
   "execution_count": 99,
   "metadata": {
    "collapsed": false,
    "deletable": true,
    "editable": true
   },
>>>>>>> upstream/master:Python/Notebooks/Aula_6_Tipo_Arquivo.ipynb
   "outputs": [
    {
     "data": {
      "text/plain": [
       "121"
      ]
     },
     "execution_count": 99,
     "metadata": {},
     "output_type": "execute_result"
    }
   ],
   "source": [
    "dic['python']"
   ]
  },
  {
   "cell_type": "code",
   "execution_count": 122,
   "metadata": {
    "collapsed": true,
    "deletable": true,
    "editable": true
   },
   "outputs": [],
   "source": [
    "from collections import Counter"
   ]
  },
  {
   "cell_type": "code",
   "execution_count": 124,
   "metadata": {
    "collapsed": false,
    "deletable": true,
    "editable": true
   },
   "outputs": [
    {
     "data": {
      "text/plain": [
       "[('wiki', 660),\n",
       " ('de', 533),\n",
       " ('C3', 443),\n",
       " ('Python', 338),\n",
       " ('E0', 174),\n",
       " ('em', 162),\n",
       " ('a', 156),\n",
       " ('org', 146),\n",
       " ('o', 137),\n",
       " ('A7', 131)]"
      ]
     },
     "execution_count": 124,
     "metadata": {},
     "output_type": "execute_result"
    }
   ],
   "source": [
    "freq2 = Counter(novo.split())\n",
    "freq2.most_common(10)"
   ]
  },
  {
   "cell_type": "code",
   "execution_count": 78,
   "metadata": {
    "collapsed": true,
    "deletable": true,
    "editable": true
   },
   "outputs": [],
   "source": [
    "with open(\"test.txt\", \"a\") as myfile:\n",
    "    myfile.write(\"appended text\")"
   ]
  },
  {
   "cell_type": "markdown",
   "metadata": {
    "deletable": true,
    "editable": true
   },
   "source": [
    "#### Módulo Pickle"
   ]
  },
  {
   "cell_type": "markdown",
   "metadata": {
    "deletable": true,
    "editable": true
   },
   "source": [
    "O módulo pickle() permite converter qualquer objeto em Python para uma string de bytes."
   ]
  },
  {
   "cell_type": "code",
   "execution_count": 131,
   "metadata": {
    "collapsed": true,
    "deletable": true,
    "editable": true
   },
   "outputs": [],
   "source": [
    "import pickle"
   ]
  },
  {
   "cell_type": "code",
<<<<<<< HEAD:Python/Notebooks/Aula_5_Tipo_Arquivo.ipynb
   "execution_count": 56,
   "metadata": {},
=======
   "execution_count": 132,
   "metadata": {
    "collapsed": false,
    "deletable": true,
    "editable": true
   },
>>>>>>> upstream/master:Python/Notebooks/Aula_6_Tipo_Arquivo.ipynb
   "outputs": [
    {
     "name": "stdout",
     "output_type": "stream",
     "text": [
      "b'\\x80\\x03]q\\x00(K\\x01K\\x02K\\x03X\\x06\\x00\\x00\\x00stringq\\x01K\\x04K\\x05\\x86q\\x02e.'\n"
     ]
    }
   ],
   "source": [
    "lista = [1,2,3, \"string\", (4,5)]\n",
    "p = pickle.dumps(lista)\n",
    "print(p)"
   ]
  },
  {
   "cell_type": "code",
<<<<<<< HEAD:Python/Notebooks/Aula_5_Tipo_Arquivo.ipynb
   "execution_count": 57,
   "metadata": {},
=======
   "execution_count": 133,
   "metadata": {
    "collapsed": false,
    "deletable": true,
    "editable": true
   },
>>>>>>> upstream/master:Python/Notebooks/Aula_6_Tipo_Arquivo.ipynb
   "outputs": [
    {
     "data": {
      "text/plain": [
       "bytes"
      ]
     },
     "execution_count": 133,
     "metadata": {},
     "output_type": "execute_result"
    }
   ],
   "source": [
    "type(p)"
   ]
  },
  {
   "cell_type": "code",
<<<<<<< HEAD:Python/Notebooks/Aula_5_Tipo_Arquivo.ipynb
   "execution_count": 80,
   "metadata": {},
=======
   "execution_count": 134,
   "metadata": {
    "collapsed": true,
    "deletable": true,
    "editable": true
   },
>>>>>>> upstream/master:Python/Notebooks/Aula_6_Tipo_Arquivo.ipynb
   "outputs": [],
   "source": [
    "with open('minha lista.pkl', 'wb') as f:\n",
    "    pickle.dump(lista, f)"
   ]
  },
  {
   "cell_type": "code",
<<<<<<< HEAD:Python/Notebooks/Aula_5_Tipo_Arquivo.ipynb
   "execution_count": 81,
   "metadata": {},
=======
   "execution_count": 136,
   "metadata": {
    "collapsed": true,
    "deletable": true,
    "editable": true
   },
>>>>>>> upstream/master:Python/Notebooks/Aula_6_Tipo_Arquivo.ipynb
   "outputs": [],
   "source": [
    "del(lista)"
   ]
  },
  {
   "cell_type": "code",
<<<<<<< HEAD:Python/Notebooks/Aula_5_Tipo_Arquivo.ipynb
   "execution_count": 82,
   "metadata": {},
=======
   "execution_count": 137,
   "metadata": {
    "collapsed": false,
    "deletable": true,
    "editable": true
   },
   "outputs": [
    {
     "ename": "NameError",
     "evalue": "name 'lista' is not defined",
     "output_type": "error",
     "traceback": [
      "\u001b[0;31m---------------------------------------------------------------------------\u001b[0m",
      "\u001b[0;31mNameError\u001b[0m                                 Traceback (most recent call last)",
      "\u001b[0;32m<ipython-input-137-72bb916e365c>\u001b[0m in \u001b[0;36m<module>\u001b[0;34m()\u001b[0m\n\u001b[0;32m----> 1\u001b[0;31m \u001b[0mlista\u001b[0m\u001b[0;34m\u001b[0m\u001b[0m\n\u001b[0m",
      "\u001b[0;31mNameError\u001b[0m: name 'lista' is not defined"
     ]
    }
   ],
   "source": [
    "lista"
   ]
  },
  {
   "cell_type": "code",
   "execution_count": 138,
   "metadata": {
    "collapsed": true,
    "deletable": true,
    "editable": true
   },
>>>>>>> upstream/master:Python/Notebooks/Aula_6_Tipo_Arquivo.ipynb
   "outputs": [],
   "source": [
    "with open('minha lista.pkl', 'rb') as f:\n",
    "    lista = pickle.load(f)"
   ]
  },
  {
   "cell_type": "code",
<<<<<<< HEAD:Python/Notebooks/Aula_5_Tipo_Arquivo.ipynb
   "execution_count": 86,
   "metadata": {},
=======
   "execution_count": 139,
   "metadata": {
    "collapsed": false,
    "deletable": true,
    "editable": true
   },
>>>>>>> upstream/master:Python/Notebooks/Aula_6_Tipo_Arquivo.ipynb
   "outputs": [
    {
     "data": {
      "text/plain": [
       "[1, 2, 3, 'string', (4, 5)]"
      ]
     },
     "execution_count": 139,
     "metadata": {},
     "output_type": "execute_result"
    }
   ],
   "source": [
    "lista"
   ]
  },
  {
   "cell_type": "code",
<<<<<<< HEAD:Python/Notebooks/Aula_5_Tipo_Arquivo.ipynb
   "execution_count": 88,
   "metadata": {},
=======
   "execution_count": 149,
   "metadata": {
    "collapsed": false,
    "deletable": true,
    "editable": true
   },
>>>>>>> upstream/master:Python/Notebooks/Aula_6_Tipo_Arquivo.ipynb
   "outputs": [
    {
     "name": "stdout",
     "output_type": "stream",
     "text": [
      "<class 'int'>\n",
      "<class 'list'>\n",
      "<class 'tuple'>\n",
      "<class 'set'>\n",
      "<class 'function'>\n"
     ]
    }
   ],
   "source": [
    "a = 12\n",
    "b = ['uma', 'lista']\n",
    "c = ('uma','tupla')\n",
    "d = {1,2,4}\n",
    "\n",
    "def soma(x,y):\n",
    "    return x + y \n",
    "\n",
    "print(type(a))\n",
    "print(type(b))\n",
    "print(type(c))\n",
    "print(type(d))\n",
    "print(type(soma))"
   ]
  },
  {
   "cell_type": "code",
   "execution_count": 150,
   "metadata": {
    "collapsed": true,
    "deletable": true,
    "editable": true
   },
   "outputs": [],
   "source": [
    "with open('meus_objetos.pkl', 'wb') as f:\n",
    "    pickle.dump((a,b,c,d), f)"
   ]
  },
  {
   "cell_type": "code",
   "execution_count": 151,
   "metadata": {
    "collapsed": true,
    "deletable": true,
    "editable": true
   },
   "outputs": [],
   "source": [
<<<<<<< HEAD:Python/Notebooks/Aula_5_Tipo_Arquivo.ipynb
    "a,b,c,d,soma = objetos"
   ]
  },
  {
   "cell_type": "code",
   "execution_count": 101,
   "metadata": {},
   "outputs": [
    {
     "data": {
      "text/plain": [
       "12"
      ]
     },
     "execution_count": 101,
     "metadata": {},
     "output_type": "execute_result"
    }
   ],
   "source": [
    "a"
=======
    "del a\n",
    "del b\n",
    "del c\n",
    "del d\n",
    "del soma"
>>>>>>> upstream/master:Python/Notebooks/Aula_6_Tipo_Arquivo.ipynb
   ]
  },
  {
   "cell_type": "code",
<<<<<<< HEAD:Python/Notebooks/Aula_5_Tipo_Arquivo.ipynb
   "execution_count": 97,
   "metadata": {},
=======
   "execution_count": 152,
   "metadata": {
    "collapsed": false,
    "deletable": true,
    "editable": true
   },
>>>>>>> upstream/master:Python/Notebooks/Aula_6_Tipo_Arquivo.ipynb
   "outputs": [
    {
     "ename": "NameError",
     "evalue": "name 'a' is not defined",
     "output_type": "error",
     "traceback": [
      "\u001b[0;31m---------------------------------------------------------------------------\u001b[0m",
      "\u001b[0;31mNameError\u001b[0m                                 Traceback (most recent call last)",
      "\u001b[0;32m<ipython-input-152-0b54aa92f88c>\u001b[0m in \u001b[0;36m<module>\u001b[0;34m()\u001b[0m\n\u001b[0;32m----> 1\u001b[0;31m \u001b[0mprint\u001b[0m\u001b[0;34m(\u001b[0m\u001b[0mtype\u001b[0m\u001b[0;34m(\u001b[0m\u001b[0ma\u001b[0m\u001b[0;34m)\u001b[0m\u001b[0;34m)\u001b[0m\u001b[0;34m\u001b[0m\u001b[0m\n\u001b[0m\u001b[1;32m      2\u001b[0m \u001b[0mprint\u001b[0m\u001b[0;34m(\u001b[0m\u001b[0mtype\u001b[0m\u001b[0;34m(\u001b[0m\u001b[0mb\u001b[0m\u001b[0;34m)\u001b[0m\u001b[0;34m)\u001b[0m\u001b[0;34m\u001b[0m\u001b[0m\n\u001b[1;32m      3\u001b[0m \u001b[0mprint\u001b[0m\u001b[0;34m(\u001b[0m\u001b[0mtype\u001b[0m\u001b[0;34m(\u001b[0m\u001b[0mc\u001b[0m\u001b[0;34m)\u001b[0m\u001b[0;34m)\u001b[0m\u001b[0;34m\u001b[0m\u001b[0m\n\u001b[1;32m      4\u001b[0m \u001b[0mprint\u001b[0m\u001b[0;34m(\u001b[0m\u001b[0mtype\u001b[0m\u001b[0;34m(\u001b[0m\u001b[0md\u001b[0m\u001b[0;34m)\u001b[0m\u001b[0;34m)\u001b[0m\u001b[0;34m\u001b[0m\u001b[0m\n\u001b[1;32m      5\u001b[0m \u001b[0mprint\u001b[0m\u001b[0;34m(\u001b[0m\u001b[0mtype\u001b[0m\u001b[0;34m(\u001b[0m\u001b[0msoma\u001b[0m\u001b[0;34m)\u001b[0m\u001b[0;34m)\u001b[0m\u001b[0;34m\u001b[0m\u001b[0m\n",
      "\u001b[0;31mNameError\u001b[0m: name 'a' is not defined"
     ]
    }
   ],
   "source": [
    "print(type(a))\n",
    "print(type(b))\n",
    "print(type(c))\n",
    "print(type(d))\n",
    "print(type(soma))"
   ]
  },
  {
   "cell_type": "code",
   "execution_count": 154,
   "metadata": {
    "collapsed": true,
    "deletable": true,
    "editable": true
   },
   "outputs": [],
   "source": [
    "with open('meus_objetos.pkl', 'rb') as f:\n",
    "    a,b,c,d = pickle.load(f)"
   ]
  },
  {
   "cell_type": "code",
<<<<<<< HEAD:Python/Notebooks/Aula_5_Tipo_Arquivo.ipynb
   "execution_count": 99,
   "metadata": {},
=======
   "execution_count": 155,
   "metadata": {
    "collapsed": false,
    "deletable": true,
    "editable": true
   },
>>>>>>> upstream/master:Python/Notebooks/Aula_6_Tipo_Arquivo.ipynb
   "outputs": [
    {
     "data": {
      "text/plain": [
       "12"
      ]
     },
     "execution_count": 155,
     "metadata": {},
     "output_type": "execute_result"
    }
   ],
   "source": [
    "a"
   ]
  },
  {
   "cell_type": "markdown",
   "metadata": {
    "deletable": true,
    "editable": true
   },
   "source": [
    "#### Módulo Collections"
   ]
  },
  {
   "cell_type": "code",
   "execution_count": 102,
<<<<<<< HEAD:Python/Notebooks/Aula_5_Tipo_Arquivo.ipynb
   "metadata": {},
=======
   "metadata": {
    "collapsed": true,
    "deletable": true,
    "editable": true
   },
>>>>>>> upstream/master:Python/Notebooks/Aula_6_Tipo_Arquivo.ipynb
   "outputs": [],
   "source": [
    "import collections"
   ]
  },
  {
   "cell_type": "code",
   "execution_count": 104,
<<<<<<< HEAD:Python/Notebooks/Aula_5_Tipo_Arquivo.ipynb
   "metadata": {},
=======
   "metadata": {
    "collapsed": true,
    "deletable": true,
    "editable": true
   },
>>>>>>> upstream/master:Python/Notebooks/Aula_6_Tipo_Arquivo.ipynb
   "outputs": [],
   "source": [
    "novo2 = novo.lower()\n",
    "lista2 = novo2.split()\n",
    "freqdist2 = collections.Counter(lista2)"
   ]
  },
  {
   "cell_type": "code",
   "execution_count": 108,
<<<<<<< HEAD:Python/Notebooks/Aula_5_Tipo_Arquivo.ipynb
   "metadata": {},
=======
   "metadata": {
    "collapsed": false,
    "deletable": true,
    "editable": true
   },
>>>>>>> upstream/master:Python/Notebooks/Aula_6_Tipo_Arquivo.ipynb
   "outputs": [
    {
     "data": {
      "text/plain": [
       "[('de', 385),\n",
       " ('a', 166),\n",
       " ('*', 163),\n",
       " ('o', 159),\n",
       " ('em', 122),\n",
       " ('para', 121),\n",
       " ('e', 121),\n",
       " ('python', 121)]"
      ]
     },
     "execution_count": 108,
     "metadata": {},
     "output_type": "execute_result"
    }
   ],
   "source": [
    "freqdist2.most_common(8)"
   ]
  },
  {
   "cell_type": "code",
   "execution_count": 112,
   "metadata": {
    "collapsed": true,
    "deletable": true,
    "editable": true
   },
   "outputs": [],
   "source": [
    "dc = {}\n",
    "dd = collections.defaultdict(list)"
   ]
  },
  {
   "cell_type": "code",
   "execution_count": 113,
<<<<<<< HEAD:Python/Notebooks/Aula_5_Tipo_Arquivo.ipynb
   "metadata": {},
=======
   "metadata": {
    "collapsed": false,
    "deletable": true,
    "editable": true
   },
>>>>>>> upstream/master:Python/Notebooks/Aula_6_Tipo_Arquivo.ipynb
   "outputs": [
    {
     "ename": "KeyError",
     "evalue": "'casa'",
     "output_type": "error",
     "traceback": [
      "\u001b[1;31m\u001b[0m",
      "\u001b[1;31mKeyError\u001b[0mTraceback (most recent call last)",
      "\u001b[1;32m<ipython-input-113-ed28c6e98684>\u001b[0m in \u001b[0;36m<module>\u001b[1;34m()\u001b[0m\n\u001b[1;32m----> 1\u001b[1;33m \u001b[0mdc\u001b[0m\u001b[1;33m[\u001b[0m\u001b[1;34m'casa'\u001b[0m\u001b[1;33m]\u001b[0m\u001b[1;33m\u001b[0m\u001b[0m\n\u001b[0m",
      "\u001b[1;31mKeyError\u001b[0m: 'casa'"
     ]
    }
   ],
   "source": [
    "dc['casa']"
   ]
  },
  {
   "cell_type": "code",
   "execution_count": 114,
<<<<<<< HEAD:Python/Notebooks/Aula_5_Tipo_Arquivo.ipynb
   "metadata": {},
=======
   "metadata": {
    "collapsed": false,
    "deletable": true,
    "editable": true
   },
>>>>>>> upstream/master:Python/Notebooks/Aula_6_Tipo_Arquivo.ipynb
   "outputs": [
    {
     "data": {
      "text/plain": [
       "[]"
      ]
     },
     "execution_count": 114,
     "metadata": {},
     "output_type": "execute_result"
    }
   ],
   "source": [
    "dd['casa']"
   ]
  },
  {
   "cell_type": "code",
   "execution_count": 115,
<<<<<<< HEAD:Python/Notebooks/Aula_5_Tipo_Arquivo.ipynb
   "metadata": {},
=======
   "metadata": {
    "collapsed": false,
    "deletable": true,
    "editable": true
   },
>>>>>>> upstream/master:Python/Notebooks/Aula_6_Tipo_Arquivo.ipynb
   "outputs": [
    {
     "data": {
      "text/plain": [
       "defaultdict(list, {'casa': []})"
      ]
     },
     "execution_count": 115,
     "metadata": {},
     "output_type": "execute_result"
    }
   ],
   "source": [
    "dd"
   ]
  },
  {
   "cell_type": "raw",
   "metadata": {
    "deletable": true,
    "editable": true
   },
   "source": [
    ">>> from collections import deque\n",
    ">>> d = deque('ghi')                 # make a new deque with three items\n",
    ">>> for elem in d:                   # iterate over the deque's elements\n",
    "...     print(elem.upper())\n",
    "G\n",
    "H\n",
    "I\n",
    "\n",
    ">>> d.append('j')                    # add a new entry to the right side\n",
    ">>> d.appendleft('f')                # add a new entry to the left side\n",
    ">>> d                                # show the representation of the deque\n",
    "deque(['f', 'g', 'h', 'i', 'j'])\n",
    "\n",
    ">>> d.pop()                          # return and remove the rightmost item\n",
    "'j'\n",
    ">>> d.popleft()                      # return and remove the leftmost item\n",
    "'f'\n",
    ">>> list(d)                          # list the contents of the deque\n",
    "['g', 'h', 'i']\n",
    ">>> d[0]                             # peek at leftmost item\n",
    "'g'\n",
    ">>> d[-1]                            # peek at rightmost item\n",
    "'i'\n",
    "\n",
    ">>> list(reversed(d))                # list the contents of a deque in reverse\n",
    "['i', 'h', 'g']\n",
    ">>> 'h' in d                         # search the deque\n",
    "True\n",
    ">>> d.extend('jkl')                  # add multiple elements at once\n",
    ">>> d\n",
    "deque(['g', 'h', 'i', 'j', 'k', 'l'])\n",
    ">>> d.rotate(1)                      # right rotation\n",
    ">>> d\n",
    "deque(['l', 'g', 'h', 'i', 'j', 'k'])\n",
    ">>> d.rotate(-1)                     # left rotation\n",
    ">>> d\n",
    "deque(['g', 'h', 'i', 'j', 'k', 'l'])\n",
    "\n",
    ">>> deque(reversed(d))               # make a new deque in reverse order\n",
    "deque(['l', 'k', 'j', 'i', 'h', 'g'])\n",
    ">>> d.clear()                        # empty the deque\n",
    ">>> d.pop()                          # cannot pop from an empty deque\n",
    "Traceback (most recent call last):\n",
    "    File \"<pyshell#6>\", line 1, in -toplevel-\n",
    "        d.pop()\n",
    "IndexError: pop from an empty deque\n",
    "\n",
    ">>> d.extendleft('abc')              # extendleft() reverses the input order\n",
    ">>> d\n",
    "deque(['c', 'b', 'a'])"
   ]
  },
  {
   "cell_type": "markdown",
   "metadata": {
    "deletable": true,
    "editable": true
   },
   "source": [
    "#### Módulo Time"
   ]
  },
  {
   "cell_type": "code",
   "execution_count": 117,
<<<<<<< HEAD:Python/Notebooks/Aula_5_Tipo_Arquivo.ipynb
   "metadata": {},
=======
   "metadata": {
    "collapsed": true,
    "deletable": true,
    "editable": true
   },
>>>>>>> upstream/master:Python/Notebooks/Aula_6_Tipo_Arquivo.ipynb
   "outputs": [],
   "source": [
    "import time\n",
    "import random"
   ]
  },
  {
   "cell_type": "code",
   "execution_count": 118,
<<<<<<< HEAD:Python/Notebooks/Aula_5_Tipo_Arquivo.ipynb
   "metadata": {},
=======
   "metadata": {
    "collapsed": false,
    "deletable": true,
    "editable": true
   },
>>>>>>> upstream/master:Python/Notebooks/Aula_6_Tipo_Arquivo.ipynb
   "outputs": [
    {
     "data": {
      "text/plain": [
       "1484329127.6182091"
      ]
     },
     "execution_count": 118,
     "metadata": {},
     "output_type": "execute_result"
    }
   ],
   "source": [
    "time.time()"
   ]
  },
  {
   "cell_type": "code",
   "execution_count": 119,
<<<<<<< HEAD:Python/Notebooks/Aula_5_Tipo_Arquivo.ipynb
   "metadata": {},
=======
   "metadata": {
    "collapsed": false,
    "deletable": true,
    "editable": true
   },
>>>>>>> upstream/master:Python/Notebooks/Aula_6_Tipo_Arquivo.ipynb
   "outputs": [
    {
     "data": {
      "text/plain": [
       "1484329128.1693141"
      ]
     },
     "execution_count": 119,
     "metadata": {},
     "output_type": "execute_result"
    }
   ],
   "source": [
    "time.time()"
   ]
  },
  {
   "cell_type": "code",
   "execution_count": 120,
<<<<<<< HEAD:Python/Notebooks/Aula_5_Tipo_Arquivo.ipynb
   "metadata": {},
=======
   "metadata": {
    "collapsed": false,
    "deletable": true,
    "editable": true
   },
>>>>>>> upstream/master:Python/Notebooks/Aula_6_Tipo_Arquivo.ipynb
   "outputs": [
    {
     "name": "stdout",
     "output_type": "stream",
     "text": [
      "M\n",
      "e\n",
      "u\n",
      " \n",
      "n\n",
      "o\n",
      "m\n",
      "e\n",
      " \n",
      "n\n"
     ]
    }
   ],
   "source": [
    "for letra in 'Meu nome não é Johnny'[0:10]:\n",
    "    print(letra)\n",
    "    time.sleep(random.randrange(10))"
   ]
  },
  {
   "cell_type": "code",
   "execution_count": 123,
<<<<<<< HEAD:Python/Notebooks/Aula_5_Tipo_Arquivo.ipynb
   "metadata": {},
=======
   "metadata": {
    "collapsed": false,
    "deletable": true,
    "editable": true
   },
>>>>>>> upstream/master:Python/Notebooks/Aula_6_Tipo_Arquivo.ipynb
   "outputs": [
    {
     "name": "stdout",
     "output_type": "stream",
     "text": [
      "104857600000000000000000000\n",
      "1484329322.2570126\n",
      "5842587018385982521381124421\n",
      "1484329321.2570434\n",
      "341427877364219557396646723584\n",
      "1484329320.257066\n",
      "20880467999847912034355032910567\n",
      "1484329319.2570872\n",
      "1333735776850284124449081472843776\n",
      "1484329318.257109\n",
      "88817841970012523233890533447265625\n",
      "1484329317.2571294\n",
      "6156119580207157310796674288400203776\n",
      "1484329316.2571504\n",
      "443426488243037769948249630619149892803\n",
      "1484329315.257171\n",
      "33145523113253374862572728253364605812736\n",
      "1484329314.2571912\n",
      "2567686153161211134561828214731016126483469\n",
      "1484329313.2572129\n"
     ]
    }
   ],
   "source": [
    "x = time.time()\n",
    "for x in range(20,30):\n",
    "    print(x**x)\n",
    "    y = time.time()\n",
    "    tempo = y - x\n",
    "    print(tempo)"
   ]
  },
  {
   "cell_type": "code",
   "execution_count": 126,
<<<<<<< HEAD:Python/Notebooks/Aula_5_Tipo_Arquivo.ipynb
   "metadata": {},
=======
   "metadata": {
    "collapsed": false,
    "deletable": true,
    "editable": true
   },
>>>>>>> upstream/master:Python/Notebooks/Aula_6_Tipo_Arquivo.ipynb
   "outputs": [
    {
     "data": {
      "text/plain": [
       "4"
      ]
     },
     "execution_count": 126,
     "metadata": {},
     "output_type": "execute_result"
    }
   ],
   "source": [
    "x = time.localtime()\n",
    "x.tm_wday"
   ]
  }
 ],
 "metadata": {
  "kernelspec": {
   "display_name": "Python 3",
   "language": "python",
   "name": "python3"
  },
  "language_info": {
   "codemirror_mode": {
    "name": "ipython",
    "version": 3
   },
   "file_extension": ".py",
   "mimetype": "text/x-python",
   "name": "python",
   "nbconvert_exporter": "python",
   "pygments_lexer": "ipython3",
<<<<<<< HEAD:Python/Notebooks/Aula_5_Tipo_Arquivo.ipynb
   "version": "3.5.2+"
=======
   "version": "3.5.3"
>>>>>>> upstream/master:Python/Notebooks/Aula_6_Tipo_Arquivo.ipynb
  }
 },
 "nbformat": 4,
 "nbformat_minor": 1
}
