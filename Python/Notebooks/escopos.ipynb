{
 "cells": [
  {
   "cell_type": "code",
   "execution_count": 17,
   "metadata": {
    "collapsed": true
   },
   "outputs": [],
   "source": [
    "x = 12\n",
    "\n",
    "def soma(z,y):\n",
    "    x = z + y\n",
    "    return x"
   ]
  },
  {
   "cell_type": "code",
   "execution_count": 18,
   "metadata": {},
   "outputs": [
    {
     "name": "stdout",
     "output_type": "stream",
     "text": [
      "7\n",
      "12\n"
     ]
    }
   ],
   "source": [
    "s = soma(2,5)\n",
    "print(s)\n",
    "print(x)"
   ]
  },
  {
   "cell_type": "code",
   "execution_count": 21,
   "metadata": {},
   "outputs": [
    {
     "name": "stdout",
     "output_type": "stream",
     "text": [
      "12\n"
     ]
    }
   ],
   "source": [
    "x = 12\n",
    "\n",
    "def mostra():\n",
    "    print(x)\n",
    "\n",
    "mostra()"
   ]
  },
  {
   "cell_type": "code",
   "execution_count": 33,
   "metadata": {},
   "outputs": [
    {
     "name": "stdout",
     "output_type": "stream",
     "text": [
      "Local1\n",
      "Local1\n",
      "Global\n",
      "Local2\n",
      "Local2\n"
     ]
    }
   ],
   "source": [
    "x = 'Global'\n",
    "def funcao1():\n",
    "    x = 'Local1'\n",
    "    print(x)\n",
    "    def funcao2():\n",
    "        global x\n",
    "        print(x)\n",
    "        x = 'Local2'\n",
    "        print(x)\n",
    "    print(x)\n",
    "    funcao2()\n",
    "funcao1()\n",
    "print(x)"
   ]
  },
  {
   "cell_type": "code",
   "execution_count": 36,
   "metadata": {},
   "outputs": [
    {
     "name": "stdout",
     "output_type": "stream",
     "text": [
      "[1, 2, 3, 2]\n",
      "[1, 2, 3, 2]\n",
      "[3, 2, 1]\n",
      "[1, 2, 3, 2]\n"
     ]
    }
   ],
   "source": [
    "x = [1,2,3]\n",
    "def funcao1():\n",
    "    x.append(2)\n",
    "    print(x)\n",
    "    def funcao2():\n",
    "        x = [3,2,1]\n",
    "        print(x)\n",
    "    print(x)\n",
    "    funcao2()\n",
    "funcao1()\n",
    "print(x)"
   ]
  },
  {
   "cell_type": "code",
   "execution_count": null,
   "metadata": {
    "collapsed": true
   },
   "outputs": [],
   "source": []
  },
  {
   "cell_type": "code",
   "execution_count": 5,
   "metadata": {
    "collapsed": true
   },
   "outputs": [],
   "source": [
    "lista = [1,2,3,4,5,6]\n",
    "\n",
    "def popst():\n",
    "    print(lista.pop())"
   ]
  },
  {
   "cell_type": "code",
   "execution_count": 6,
   "metadata": {},
   "outputs": [
    {
     "name": "stdout",
     "output_type": "stream",
     "text": [
      "[1, 2, 3, 4, 5, 6]\n",
      "6\n",
      "[1, 2, 3, 4, 5]\n",
      "5\n",
      "[1, 2, 3, 4]\n"
     ]
    }
   ],
   "source": [
    "print(lista)\n",
    "popst()\n",
    "print(lista)\n",
    "popst()\n",
    "print(lista)"
   ]
  },
  {
   "cell_type": "code",
   "execution_count": null,
   "metadata": {
    "collapsed": true
   },
   "outputs": [],
   "source": []
  }
 ],
 "metadata": {
  "kernelspec": {
   "display_name": "Python 3",
   "language": "python",
   "name": "python3"
  },
  "language_info": {
   "codemirror_mode": {
    "name": "ipython",
    "version": 3
   },
   "file_extension": ".py",
   "mimetype": "text/x-python",
   "name": "python",
   "nbconvert_exporter": "python",
   "pygments_lexer": "ipython3",
   "version": "3.5.2+"
  }
 },
 "nbformat": 4,
 "nbformat_minor": 2
}
